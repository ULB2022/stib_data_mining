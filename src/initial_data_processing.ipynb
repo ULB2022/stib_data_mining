{
 "cells": [
  {
   "cell_type": "markdown",
   "metadata": {},
   "source": [
    "# Imports and change directory"
   ]
  },
  {
   "cell_type": "code",
   "execution_count": 176,
   "metadata": {},
   "outputs": [],
   "source": [
    "import os\n",
    "import folium\n",
    "import pandas as pd\n",
    "import geopandas as gpd\n",
    "\n",
    "P_DIR=\"/Users/Licious/Downloads/Project Data-20221102/2109_STIB_MIVB_Network\"\n",
    "os.chdir(P_DIR)\n"
   ]
  },
  {
   "cell_type": "markdown",
   "metadata": {},
   "source": [
    "All files in stib\n"
   ]
  },
  {
   "cell_type": "code",
   "execution_count": 177,
   "metadata": {
    "tags": [
     "test"
    ]
   },
   "outputs": [
    {
     "name": "stdout",
     "output_type": "stream",
     "text": [
      "['svg', 'ACTU_STOPS.cpg', 'ACTU_STOPS.shp', 'test', 'ACTU_STOPS.shx', 'ACTU_STOPS.sbx', 'ACTU_LINES.prj', 'plugins', 'ACTU_LINES.sbn', 'ACTU_STOPS.dbf', 'ACTU_LINES.shp.xml', 'ACTU_STOPS.prj', 'sample.json', 'ACTU_LINES.dbf', 'ACTU_STOPS.sbn', 'ACTU_LINES.shp', 'ACTU_LINES.cpg', 'ACTU_LINES.shx', 'fonts', 'ACTU_STOPS.shp.xml', 'ACTU_LINES.sbx', 'conf', 'a.html']\n"
     ]
    }
   ],
   "source": [
    "files_path =  os.listdir()\n",
    "print(files_path)"
   ]
  },
  {
   "cell_type": "markdown",
   "metadata": {},
   "source": [
    "# Read all files"
   ]
  },
  {
   "cell_type": "code",
   "execution_count": 225,
   "metadata": {},
   "outputs": [
    {
     "data": {
      "text/html": [
       "<div>\n",
       "<style scoped>\n",
       "    .dataframe tbody tr th:only-of-type {\n",
       "        vertical-align: middle;\n",
       "    }\n",
       "\n",
       "    .dataframe tbody tr th {\n",
       "        vertical-align: top;\n",
       "    }\n",
       "\n",
       "    .dataframe thead th {\n",
       "        text-align: right;\n",
       "    }\n",
       "</style>\n",
       "<table border=\"1\" class=\"dataframe\">\n",
       "  <thead>\n",
       "    <tr style=\"text-align: right;\">\n",
       "      <th></th>\n",
       "      <th>LIGNE</th>\n",
       "      <th>VARIANTE</th>\n",
       "      <th>COLOR_HEX</th>\n",
       "      <th>Date_debut</th>\n",
       "      <th>Date_fin</th>\n",
       "      <th>geometry</th>\n",
       "    </tr>\n",
       "  </thead>\n",
       "  <tbody>\n",
       "    <tr>\n",
       "      <th>0</th>\n",
       "      <td>001m</td>\n",
       "      <td>1</td>\n",
       "      <td>#C4008F</td>\n",
       "      <td>01/09/2021</td>\n",
       "      <td>06/03/2022</td>\n",
       "      <td>LINESTRING Z (146633.500 170956.400 0.000, 146...</td>\n",
       "    </tr>\n",
       "    <tr>\n",
       "      <th>1</th>\n",
       "      <td>001m</td>\n",
       "      <td>2</td>\n",
       "      <td>#C4008F</td>\n",
       "      <td>01/09/2021</td>\n",
       "      <td>06/03/2022</td>\n",
       "      <td>LINESTRING Z (156746.700 170167.000 0.000, 156...</td>\n",
       "    </tr>\n",
       "    <tr>\n",
       "      <th>2</th>\n",
       "      <td>002m</td>\n",
       "      <td>1</td>\n",
       "      <td>#F57000</td>\n",
       "      <td>01/09/2021</td>\n",
       "      <td>06/03/2022</td>\n",
       "      <td>LINESTRING Z (147305.500 172526.900 0.000, 147...</td>\n",
       "    </tr>\n",
       "    <tr>\n",
       "      <th>3</th>\n",
       "      <td>002m</td>\n",
       "      <td>2</td>\n",
       "      <td>#F57000</td>\n",
       "      <td>01/09/2021</td>\n",
       "      <td>06/03/2022</td>\n",
       "      <td>LINESTRING Z (147370.500 172498.500 0.000, 147...</td>\n",
       "    </tr>\n",
       "    <tr>\n",
       "      <th>4</th>\n",
       "      <td>003t</td>\n",
       "      <td>1</td>\n",
       "      <td>#B5BA05</td>\n",
       "      <td>01/09/2021</td>\n",
       "      <td>06/03/2022</td>\n",
       "      <td>LINESTRING Z (148550.000 176641.300 0.000, 148...</td>\n",
       "    </tr>\n",
       "  </tbody>\n",
       "</table>\n",
       "</div>"
      ],
      "text/plain": [
       "  LIGNE  VARIANTE COLOR_HEX  Date_debut    Date_fin  \\\n",
       "0  001m         1   #C4008F  01/09/2021  06/03/2022   \n",
       "1  001m         2   #C4008F  01/09/2021  06/03/2022   \n",
       "2  002m         1   #F57000  01/09/2021  06/03/2022   \n",
       "3  002m         2   #F57000  01/09/2021  06/03/2022   \n",
       "4  003t         1   #B5BA05  01/09/2021  06/03/2022   \n",
       "\n",
       "                                            geometry  \n",
       "0  LINESTRING Z (146633.500 170956.400 0.000, 146...  \n",
       "1  LINESTRING Z (156746.700 170167.000 0.000, 156...  \n",
       "2  LINESTRING Z (147305.500 172526.900 0.000, 147...  \n",
       "3  LINESTRING Z (147370.500 172498.500 0.000, 147...  \n",
       "4  LINESTRING Z (148550.000 176641.300 0.000, 148...  "
      ]
     },
     "execution_count": 225,
     "metadata": {},
     "output_type": "execute_result"
    }
   ],
   "source": [
    "stop_gdf = gpd.read_file('ACTU_STOPS.shp')\n",
    "lines_gdf = gpd.read_file('ACTU_LINES.shp')\n",
    "stop_col = [\"Code_Ligne\",\"Variante\",\"succession\",\"stop_id\",\"descr_fr\",\"descr_nl\",\"alpha_fr\",\"alpha_nl\",\"coord_x\",\"coord_y\",\"mode\",\"numero_lig\",\"terminus\"]\n",
    "lines_gdf.head()\n"
   ]
  },
  {
   "cell_type": "code",
   "execution_count": 234,
   "metadata": {},
   "outputs": [
    {
     "data": {
      "text/html": [
       "<div>\n",
       "<style scoped>\n",
       "    .dataframe tbody tr th:only-of-type {\n",
       "        vertical-align: middle;\n",
       "    }\n",
       "\n",
       "    .dataframe tbody tr th {\n",
       "        vertical-align: top;\n",
       "    }\n",
       "\n",
       "    .dataframe thead th {\n",
       "        text-align: right;\n",
       "    }\n",
       "</style>\n",
       "<table border=\"1\" class=\"dataframe\">\n",
       "  <thead>\n",
       "    <tr style=\"text-align: right;\">\n",
       "      <th></th>\n",
       "      <th>LIGNE</th>\n",
       "      <th>VARIANTE</th>\n",
       "      <th>COLOR_HEX</th>\n",
       "      <th>Date_debut</th>\n",
       "      <th>Date_fin</th>\n",
       "      <th>geometry</th>\n",
       "    </tr>\n",
       "  </thead>\n",
       "  <tbody>\n",
       "    <tr>\n",
       "      <th>144</th>\n",
       "      <td>093t</td>\n",
       "      <td>1</td>\n",
       "      <td>purple</td>\n",
       "      <td>01/09/2021</td>\n",
       "      <td>06/03/2022</td>\n",
       "      <td>LINESTRING Z (147422.300 175898.100 0.000, 147...</td>\n",
       "    </tr>\n",
       "    <tr>\n",
       "      <th>145</th>\n",
       "      <td>093t</td>\n",
       "      <td>2</td>\n",
       "      <td>red</td>\n",
       "      <td>01/09/2021</td>\n",
       "      <td>06/03/2022</td>\n",
       "      <td>LINESTRING Z (150206.600 167361.000 0.000, 150...</td>\n",
       "    </tr>\n",
       "  </tbody>\n",
       "</table>\n",
       "</div>"
      ],
      "text/plain": [
       "    LIGNE  VARIANTE COLOR_HEX  Date_debut    Date_fin  \\\n",
       "144  093t         1    purple  01/09/2021  06/03/2022   \n",
       "145  093t         2       red  01/09/2021  06/03/2022   \n",
       "\n",
       "                                              geometry  \n",
       "144  LINESTRING Z (147422.300 175898.100 0.000, 147...  \n",
       "145  LINESTRING Z (150206.600 167361.000 0.000, 150...  "
      ]
     },
     "execution_count": 234,
     "metadata": {},
     "output_type": "execute_result"
    }
   ],
   "source": [
    "test_data=lines_gdf.loc[lines_gdf[\"LIGNE\"]==\"093t\"]\n",
    "test_data.head()\n",
    "test_data.loc[test_data['VARIANTE'] == 1, 'COLOR_HEX'] = 'purple'\n",
    "test_data.loc[test_data['VARIANTE'] == 2, 'COLOR_HEX'] = 'red'\n",
    "\n",
    "test_data.head()"
   ]
  },
  {
   "cell_type": "markdown",
   "metadata": {},
   "source": [
    "##  Transformer code below need to check properly. Can be used in future"
   ]
  },
  {
   "cell_type": "raw",
   "metadata": {},
   "source": [
    "from pyproj import Transformer\n",
    "transformer = Transformer.from_crs(\"epsg:2154\", \"epsg:4326\")\n",
    "latlong_coordinates_origin = list(zip(*transformer.transform(stop_gdf['coord_x'], stop_gdf['coord_y'])))\n",
    "print(latlong_coordinates_origin)\n",
    "# print(sum(latlong_coordinates_origin)/len(latlong_coordinates_origin))\n",
    "# latlong_coordinates_destination = transformer.transform(df.iloc[4,], df.iloc[5,])"
   ]
  },
  {
   "cell_type": "markdown",
   "metadata": {},
   "source": [
    "#   Mapping betweeen tram and mode of transport"
   ]
  },
  {
   "cell_type": "code",
   "execution_count": 179,
   "metadata": {},
   "outputs": [],
   "source": [
    "mode_line_mapping = {\n",
    "    \"T\": [7, 93, 81, 51, 19, 9, 39, 97, 82, 32, 44, 25, 92, 8, 3, 55, 4, 62],\n",
    "    \"B\": [\n",
    "        98,\n",
    "        87,\n",
    "        77,\n",
    "        61,\n",
    "        86,\n",
    "        213,\n",
    "        206,\n",
    "        38,\n",
    "        49,\n",
    "        204,\n",
    "        12,\n",
    "        70,\n",
    "        33,\n",
    "        56,\n",
    "        212,\n",
    "        46,\n",
    "        53,\n",
    "        59,\n",
    "        80,\n",
    "        89,\n",
    "        209,\n",
    "        76,\n",
    "        60,\n",
    "        66,\n",
    "        27,\n",
    "        48,\n",
    "        57,\n",
    "        83,\n",
    "        47,\n",
    "        78,\n",
    "        41,\n",
    "        14,\n",
    "        216,\n",
    "        17,\n",
    "        64,\n",
    "        42,\n",
    "        210,\n",
    "        21,\n",
    "        88,\n",
    "        75,\n",
    "        36,\n",
    "        13,\n",
    "        54,\n",
    "        50,\n",
    "        52,\n",
    "        63,\n",
    "        95,\n",
    "        69,\n",
    "        72,\n",
    "        34,\n",
    "        65,\n",
    "        205,\n",
    "        28,\n",
    "        29,\n",
    "        43,\n",
    "        71,\n",
    "        58,\n",
    "        79,\n",
    "        208,\n",
    "        45,\n",
    "        218,\n",
    "        74,\n",
    "        37,\n",
    "        20,\n",
    "        211,\n",
    "    ],\n",
    "    \"M\": [5, 1, 6, 2],\n",
    "}\n"
   ]
  },
  {
   "cell_type": "markdown",
   "metadata": {},
   "source": [
    "# Map global code"
   ]
  },
  {
   "cell_type": "code",
   "execution_count": 241,
   "metadata": {},
   "outputs": [],
   "source": [
    "# Map start\n",
    "map = folium.Map(location=[50.8260,4.3802],zoom_start=15)\n"
   ]
  },
  {
   "cell_type": "markdown",
   "metadata": {},
   "source": [
    "# Below code will handle all manipulation related to stops"
   ]
  },
  {
   "cell_type": "code",
   "execution_count": 242,
   "metadata": {},
   "outputs": [],
   "source": [
    "# modes = ['M']\n",
    "#Below is  the sample\n",
    "#select_lines = {'M':'*','T':[93, 81, 51]}\n",
    "\n",
    "select_lines = {'T':[93]}\n",
    "color_select = {\"T\": \"black\", \"B\": \"blue\", \"M\":\"yellow\"}\n",
    "icon_select = {\"T\": \"plane\", \"B\": \"bus\", \"M\":\"dribbble\"}\n",
    "selected_lines = []\n",
    "for mode_chosen in select_lines.keys():\n",
    "    filtered_data = stop_gdf.loc[stop_gdf['mode']==mode_chosen]\n",
    "    if select_lines[mode_chosen]!='*':\n",
    "        filtered_data = filtered_data.loc[filtered_data['numero_lig'].isin(select_lines[mode_chosen])]\n",
    "    selected_lines = selected_lines+list(set(filtered_data['Code_Ligne']))\n",
    "    folium.GeoJson(data=filtered_data,\n",
    "        popup=folium.GeoJsonPopup(stop_col),\n",
    "        marker = folium.Marker(icon=folium.Icon(icon=icon_select[mode_chosen], prefix='fa' , color=color_select[mode_chosen], icon_color='white'\n",
    "    ))).add_to(map)\n",
    "\n"
   ]
  },
  {
   "cell_type": "code",
   "execution_count": 221,
   "metadata": {},
   "outputs": [
    {
     "name": "stdout",
     "output_type": "stream",
     "text": [
      "['093t']\n"
     ]
    }
   ],
   "source": [
    "print(selected_lines)"
   ]
  },
  {
   "cell_type": "code",
   "execution_count": 182,
   "metadata": {},
   "outputs": [],
   "source": [
    "lines_gdf.to_html(\"a.html\")"
   ]
  },
  {
   "cell_type": "code",
   "execution_count": 183,
   "metadata": {},
   "outputs": [
    {
     "name": "stderr",
     "output_type": "stream",
     "text": [
      "16397.85s - pydevd: Sending message related to process being replaced timed-out after 5 seconds\n"
     ]
    }
   ],
   "source": [
    "! open a.html"
   ]
  },
  {
   "cell_type": "code",
   "execution_count": 243,
   "metadata": {},
   "outputs": [
    {
     "data": {
      "text/plain": [
       "<folium.features.GeoJson at 0x286caa5c0>"
      ]
     },
     "execution_count": 243,
     "metadata": {},
     "output_type": "execute_result"
    }
   ],
   "source": [
    "style1 = {'fillColor': '#228B22', 'lineColor': 'white'}\n",
    "# selected_lines = select_lines.map()\n",
    "folium.GeoJson(\n",
    "    data=test_data\n",
    "    ,popup=folium.GeoJsonPopup([\"LIGNE\",]),\n",
    "    style_function= lambda x: {\n",
    "    'color' : x['properties']['COLOR_HEX'],\n",
    "    'weight' : 4 if x['properties']['LIGNE'][-1]=='m' else 4,\n",
    "    'opacity' : 1 if x['properties']['LIGNE'] in selected_lines else 0\n",
    "}\n",
    "    # marker = folium.Marker(icon=folium.Icon(icon=icon_select[mode_chosen], prefix='fa' , color=color_select[mode_chosen], icon_color='white'\n",
    "    # )\n",
    "    # )\n",
    "    ).add_to(map)"
   ]
  },
  {
   "cell_type": "code",
   "execution_count": 244,
   "metadata": {},
   "outputs": [
    {
     "data": {
      "text/html": [
       "<div style=\"width:100%;\"><div style=\"position:relative;width:100%;height:0;padding-bottom:60%;\"><span style=\"color:#565656\">Make this Notebook Trusted to load map: File -> Trust Notebook</span><iframe srcdoc=\"&lt;!DOCTYPE html&gt;\n",
       "&lt;head&gt;    \n",
       "    &lt;meta http-equiv=&quot;content-type&quot; content=&quot;text/html; charset=UTF-8&quot; /&gt;\n",
       "    \n",
       "        &lt;script&gt;\n",
       "            L_NO_TOUCH = false;\n",
       "            L_DISABLE_3D = false;\n",
       "        &lt;/script&gt;\n",
       "    \n",
       "    &lt;style&gt;html, body {width: 100%;height: 100%;margin: 0;padding: 0;}&lt;/style&gt;\n",
       "    &lt;style&gt;#map {position:absolute;top:0;bottom:0;right:0;left:0;}&lt;/style&gt;\n",
       "    &lt;script src=&quot;https://cdn.jsdelivr.net/npm/leaflet@1.6.0/dist/leaflet.js&quot;&gt;&lt;/script&gt;\n",
       "    &lt;script src=&quot;https://code.jquery.com/jquery-1.12.4.min.js&quot;&gt;&lt;/script&gt;\n",
       "    &lt;script src=&quot;https://maxcdn.bootstrapcdn.com/bootstrap/3.2.0/js/bootstrap.min.js&quot;&gt;&lt;/script&gt;\n",
       "    &lt;script src=&quot;https://cdnjs.cloudflare.com/ajax/libs/Leaflet.awesome-markers/2.0.2/leaflet.awesome-markers.js&quot;&gt;&lt;/script&gt;\n",
       "    &lt;link rel=&quot;stylesheet&quot; href=&quot;https://cdn.jsdelivr.net/npm/leaflet@1.6.0/dist/leaflet.css&quot;/&gt;\n",
       "    &lt;link rel=&quot;stylesheet&quot; href=&quot;https://maxcdn.bootstrapcdn.com/bootstrap/3.2.0/css/bootstrap.min.css&quot;/&gt;\n",
       "    &lt;link rel=&quot;stylesheet&quot; href=&quot;https://maxcdn.bootstrapcdn.com/bootstrap/3.2.0/css/bootstrap-theme.min.css&quot;/&gt;\n",
       "    &lt;link rel=&quot;stylesheet&quot; href=&quot;https://maxcdn.bootstrapcdn.com/font-awesome/4.6.3/css/font-awesome.min.css&quot;/&gt;\n",
       "    &lt;link rel=&quot;stylesheet&quot; href=&quot;https://cdnjs.cloudflare.com/ajax/libs/Leaflet.awesome-markers/2.0.2/leaflet.awesome-markers.css&quot;/&gt;\n",
       "    &lt;link rel=&quot;stylesheet&quot; href=&quot;https://cdn.jsdelivr.net/gh/python-visualization/folium/folium/templates/leaflet.awesome.rotate.min.css&quot;/&gt;\n",
       "    \n",
       "            &lt;meta name=&quot;viewport&quot; content=&quot;width=device-width,\n",
       "                initial-scale=1.0, maximum-scale=1.0, user-scalable=no&quot; /&gt;\n",
       "            &lt;style&gt;\n",
       "                #map_ddc8a383a05bc625a83d75e924e56d2a {\n",
       "                    position: relative;\n",
       "                    width: 100.0%;\n",
       "                    height: 100.0%;\n",
       "                    left: 0.0%;\n",
       "                    top: 0.0%;\n",
       "                }\n",
       "            &lt;/style&gt;\n",
       "        \n",
       "    \n",
       "                    &lt;style&gt;\n",
       "                        .foliumpopup {\n",
       "                            margin: auto;\n",
       "                        }\n",
       "                       .foliumpopup table{\n",
       "                            margin: auto;\n",
       "                        }\n",
       "                        .foliumpopup tr{\n",
       "                            text-align: left;\n",
       "                        }\n",
       "                        .foliumpopup th{\n",
       "                            padding: 2px; padding-right: 8px;\n",
       "                        }\n",
       "                    &lt;/style&gt;\n",
       "            \n",
       "    \n",
       "                    &lt;style&gt;\n",
       "                        .foliumpopup {\n",
       "                            margin: auto;\n",
       "                        }\n",
       "                       .foliumpopup table{\n",
       "                            margin: auto;\n",
       "                        }\n",
       "                        .foliumpopup tr{\n",
       "                            text-align: left;\n",
       "                        }\n",
       "                        .foliumpopup th{\n",
       "                            padding: 2px; padding-right: 8px;\n",
       "                        }\n",
       "                    &lt;/style&gt;\n",
       "            \n",
       "&lt;/head&gt;\n",
       "&lt;body&gt;    \n",
       "    \n",
       "            &lt;div class=&quot;folium-map&quot; id=&quot;map_ddc8a383a05bc625a83d75e924e56d2a&quot; &gt;&lt;/div&gt;\n",
       "        \n",
       "&lt;/body&gt;\n",
       "&lt;script&gt;    \n",
       "    \n",
       "            var map_ddc8a383a05bc625a83d75e924e56d2a = L.map(\n",
       "                &quot;map_ddc8a383a05bc625a83d75e924e56d2a&quot;,\n",
       "                {\n",
       "                    center: [50.826, 4.3802],\n",
       "                    crs: L.CRS.EPSG3857,\n",
       "                    zoom: 15,\n",
       "                    zoomControl: true,\n",
       "                    preferCanvas: false,\n",
       "                }\n",
       "            );\n",
       "\n",
       "            \n",
       "\n",
       "        \n",
       "    \n",
       "            var tile_layer_9e0546176f1a3d0a0323ec7bce5f1d33 = L.tileLayer(\n",
       "                &quot;https://{s}.tile.openstreetmap.org/{z}/{x}/{y}.png&quot;,\n",
       "                {&quot;attribution&quot;: &quot;Data by \\u0026copy; \\u003ca href=\\&quot;http://openstreetmap.org\\&quot;\\u003eOpenStreetMap\\u003c/a\\u003e, under \\u003ca href=\\&quot;http://www.openstreetmap.org/copyright\\&quot;\\u003eODbL\\u003c/a\\u003e.&quot;, &quot;detectRetina&quot;: false, &quot;maxNativeZoom&quot;: 18, &quot;maxZoom&quot;: 18, &quot;minZoom&quot;: 0, &quot;noWrap&quot;: false, &quot;opacity&quot;: 1, &quot;subdomains&quot;: &quot;abc&quot;, &quot;tms&quot;: false}\n",
       "            ).addTo(map_ddc8a383a05bc625a83d75e924e56d2a);\n",
       "        \n",
       "    \n",
       "        function geo_json_8fda546772e356ec0c790dfc2556db11_pointToLayer(feature, latlng) {\n",
       "            var opts = {};\n",
       "            \n",
       "            const iconOptions = {&quot;extraClasses&quot;: &quot;fa-rotate-0&quot;, &quot;icon&quot;: &quot;plane&quot;, &quot;iconColor&quot;: &quot;white&quot;, &quot;markerColor&quot;: &quot;black&quot;, &quot;prefix&quot;: &quot;fa&quot;}\n",
       "            const iconRootAlias = L.AwesomeMarkers\n",
       "            opts.icon = new iconRootAlias.Icon(iconOptions)\n",
       "            \n",
       "            return new L.Marker(latlng, opts)\n",
       "        }\n",
       "\n",
       "        function geo_json_8fda546772e356ec0c790dfc2556db11_onEachFeature(feature, layer) {\n",
       "            layer.on({\n",
       "            });\n",
       "        };\n",
       "        var geo_json_8fda546772e356ec0c790dfc2556db11 = L.geoJson(null, {\n",
       "                onEachFeature: geo_json_8fda546772e356ec0c790dfc2556db11_onEachFeature,\n",
       "            \n",
       "                pointToLayer: geo_json_8fda546772e356ec0c790dfc2556db11_pointToLayer\n",
       "        });\n",
       "\n",
       "        function geo_json_8fda546772e356ec0c790dfc2556db11_add (data) {\n",
       "            geo_json_8fda546772e356ec0c790dfc2556db11\n",
       "                .addData(data)\n",
       "                .addTo(map_ddc8a383a05bc625a83d75e924e56d2a);\n",
       "        }\n",
       "            geo_json_8fda546772e356ec0c790dfc2556db11_add({&quot;bbox&quot;: [4.330037700064321, 50.815959628178746, 4.371873601278683, 50.89383907656143], &quot;features&quot;: [{&quot;bbox&quot;: [4.332110630011244, 50.89340764252671, 4.332110630011244, 50.89340764252671], &quot;geometry&quot;: {&quot;coordinates&quot;: [4.332110630011244, 50.89340764252671], &quot;type&quot;: &quot;Point&quot;}, &quot;id&quot;: &quot;4054&quot;, &quot;properties&quot;: {&quot;Code_Ligne&quot;: &quot;093t&quot;, &quot;Variante&quot;: 1, &quot;alpha_fr&quot;: &quot;Stade&quot;, &quot;alpha_nl&quot;: &quot;Stadion&quot;, &quot;coord_x&quot;: 147422.0, &quot;coord_y&quot;: 175896.0, &quot;descr_fr&quot;: &quot;STADE&quot;, &quot;descr_nl&quot;: &quot;STADION&quot;, &quot;mode&quot;: &quot;T&quot;, &quot;numero_lig&quot;: 93, &quot;stop_id&quot;: &quot;5400&quot;, &quot;succession&quot;: 1, &quot;terminus&quot;: &quot;LEGRAND&quot;}, &quot;type&quot;: &quot;Feature&quot;}, {&quot;bbox&quot;: [4.330037700064321, 50.89064724445403, 4.330037700064321, 50.89064724445403], &quot;geometry&quot;: {&quot;coordinates&quot;: [4.330037700064321, 50.89064724445403], &quot;type&quot;: &quot;Point&quot;}, &quot;id&quot;: &quot;4055&quot;, &quot;properties&quot;: {&quot;Code_Ligne&quot;: &quot;093t&quot;, &quot;Variante&quot;: 1, &quot;alpha_fr&quot;: &quot;Sti\\u00e9non&quot;, &quot;alpha_nl&quot;: &quot;Sti\\u00e9non&quot;, &quot;coord_x&quot;: 147276.0, &quot;coord_y&quot;: 175589.0, &quot;descr_fr&quot;: &quot;STIENON&quot;, &quot;descr_nl&quot;: &quot;STIENON&quot;, &quot;mode&quot;: &quot;T&quot;, &quot;numero_lig&quot;: 93, &quot;stop_id&quot;: &quot;5402&quot;, &quot;succession&quot;: 2, &quot;terminus&quot;: &quot;LEGRAND&quot;}, &quot;type&quot;: &quot;Feature&quot;}, {&quot;bbox&quot;: [4.334672158478891, 50.88903955100371, 4.334672158478891, 50.88903955100371], &quot;geometry&quot;: {&quot;coordinates&quot;: [4.334672158478891, 50.88903955100371], &quot;type&quot;: &quot;Point&quot;}, &quot;id&quot;: &quot;4056&quot;, &quot;properties&quot;: {&quot;Code_Ligne&quot;: &quot;093t&quot;, &quot;Variante&quot;: 1, &quot;alpha_fr&quot;: &quot;Polyclinique Brugmann&quot;, &quot;alpha_nl&quot;: &quot;Polikliniek Brugmann&quot;, &quot;coord_x&quot;: 147602.0, &quot;coord_y&quot;: 175410.0, &quot;descr_fr&quot;: &quot;POLYCL. BRUGMANN&quot;, &quot;descr_nl&quot;: &quot;POLIKL. BRUGMANN&quot;, &quot;mode&quot;: &quot;T&quot;, &quot;numero_lig&quot;: 93, &quot;stop_id&quot;: &quot;5399F&quot;, &quot;succession&quot;: 3, &quot;terminus&quot;: &quot;LEGRAND&quot;}, &quot;type&quot;: &quot;Feature&quot;}, {&quot;bbox&quot;: [4.333523183689602, 50.88603675601242, 4.333523183689602, 50.88603675601242], &quot;geometry&quot;: {&quot;coordinates&quot;: [4.333523183689602, 50.88603675601242], &quot;type&quot;: &quot;Point&quot;}, &quot;id&quot;: &quot;4057&quot;, &quot;properties&quot;: {&quot;Code_Ligne&quot;: &quot;093t&quot;, &quot;Variante&quot;: 1, &quot;alpha_fr&quot;: &quot;H\\u00f4pital Brugmann&quot;, &quot;alpha_nl&quot;: &quot;Brugmann-ziekenhuis&quot;, &quot;coord_x&quot;: 147521.0, &quot;coord_y&quot;: 175076.0, &quot;descr_fr&quot;: &quot;HOPITAL BRUGMANN&quot;, &quot;descr_nl&quot;: &quot;BRUGMANN-ZIEKENH.&quot;, &quot;mode&quot;: &quot;T&quot;, &quot;numero_lig&quot;: 93, &quot;stop_id&quot;: &quot;5403&quot;, &quot;succession&quot;: 4, &quot;terminus&quot;: &quot;LEGRAND&quot;}, &quot;type&quot;: &quot;Feature&quot;}, {&quot;bbox&quot;: [4.335515421424387, 50.88218985455643, 4.335515421424387, 50.88218985455643], &quot;geometry&quot;: {&quot;coordinates&quot;: [4.335515421424387, 50.88218985455643], &quot;type&quot;: &quot;Point&quot;}, &quot;id&quot;: &quot;4058&quot;, &quot;properties&quot;: {&quot;Code_Ligne&quot;: &quot;093t&quot;, &quot;Variante&quot;: 1, &quot;alpha_fr&quot;: &quot;Guillaume De Greef&quot;, &quot;alpha_nl&quot;: &quot;Guillaume De Greef&quot;, &quot;coord_x&quot;: 147661.0, &quot;coord_y&quot;: 174648.0, &quot;descr_fr&quot;: &quot;GUILL. DE GREEF&quot;, &quot;descr_nl&quot;: &quot;GUILL. DE GREEF&quot;, &quot;mode&quot;: &quot;T&quot;, &quot;numero_lig&quot;: 93, &quot;stop_id&quot;: &quot;5010&quot;, &quot;succession&quot;: 5, &quot;terminus&quot;: &quot;LEGRAND&quot;}, &quot;type&quot;: &quot;Feature&quot;}, {&quot;bbox&quot;: [4.335062834053637, 50.8791513019916, 4.335062834053637, 50.8791513019916], &quot;geometry&quot;: {&quot;coordinates&quot;: [4.335062834053637, 50.8791513019916], &quot;type&quot;: &quot;Point&quot;}, &quot;id&quot;: &quot;4059&quot;, &quot;properties&quot;: {&quot;Code_Ligne&quot;: &quot;093t&quot;, &quot;Variante&quot;: 1, &quot;alpha_fr&quot;: &quot;Cimeti\\u00e8re de Jette&quot;, &quot;alpha_nl&quot;: &quot;Kerkhof van Jette&quot;, &quot;coord_x&quot;: 147629.0, &quot;coord_y&quot;: 174310.0, &quot;descr_fr&quot;: &quot;CIM. DE JETTE&quot;, &quot;descr_nl&quot;: &quot;KERKH. VAN JETTE&quot;, &quot;mode&quot;: &quot;T&quot;, &quot;numero_lig&quot;: 93, &quot;stop_id&quot;: &quot;6501&quot;, &quot;succession&quot;: 6, &quot;terminus&quot;: &quot;LEGRAND&quot;}, &quot;type&quot;: &quot;Feature&quot;}, {&quot;bbox&quot;: [4.338515763212165, 50.87898142287966, 4.338515763212165, 50.87898142287966], &quot;geometry&quot;: {&quot;coordinates&quot;: [4.338515763212165, 50.87898142287966], &quot;type&quot;: &quot;Point&quot;}, &quot;id&quot;: &quot;4060&quot;, &quot;properties&quot;: {&quot;Code_Ligne&quot;: &quot;093t&quot;, &quot;Variante&quot;: 1, &quot;alpha_fr&quot;: &quot;Foyer Jettois&quot;, &quot;alpha_nl&quot;: &quot;Jetse Haard&quot;, &quot;coord_x&quot;: 147872.0, &quot;coord_y&quot;: 174291.0, &quot;descr_fr&quot;: &quot;FOYER JETTOIS&quot;, &quot;descr_nl&quot;: &quot;JETSE HAARD&quot;, &quot;mode&quot;: &quot;T&quot;, &quot;numero_lig&quot;: 93, &quot;stop_id&quot;: &quot;6505&quot;, &quot;succession&quot;: 7, &quot;terminus&quot;: &quot;LEGRAND&quot;}, &quot;type&quot;: &quot;Feature&quot;}, {&quot;bbox&quot;: [4.342437516683617, 50.87890143978698, 4.342437516683617, 50.87890143978698], &quot;geometry&quot;: {&quot;coordinates&quot;: [4.342437516683617, 50.87890143978698], &quot;type&quot;: &quot;Point&quot;}, &quot;id&quot;: &quot;4061&quot;, &quot;properties&quot;: {&quot;Code_Ligne&quot;: &quot;093t&quot;, &quot;Variante&quot;: 1, &quot;alpha_fr&quot;: &quot;Jacobs Fontaine&quot;, &quot;alpha_nl&quot;: &quot;Jacobs Fontaine&quot;, &quot;coord_x&quot;: 148148.0, &quot;coord_y&quot;: 174282.0, &quot;descr_fr&quot;: &quot;JACOBS FONTAINE&quot;, &quot;descr_nl&quot;: &quot;JACOBS FONTAINE&quot;, &quot;mode&quot;: &quot;T&quot;, &quot;numero_lig&quot;: 93, &quot;stop_id&quot;: &quot;6504&quot;, &quot;succession&quot;: 8, &quot;terminus&quot;: &quot;LEGRAND&quot;}, &quot;type&quot;: &quot;Feature&quot;}, {&quot;bbox&quot;: [4.347794920946567, 50.87754508294273, 4.347794920946567, 50.87754508294273], &quot;geometry&quot;: {&quot;coordinates&quot;: [4.347794920946567, 50.87754508294273], &quot;type&quot;: &quot;Point&quot;}, &quot;id&quot;: &quot;4062&quot;, &quot;properties&quot;: {&quot;Code_Ligne&quot;: &quot;093t&quot;, &quot;Variante&quot;: 1, &quot;alpha_fr&quot;: &quot;Bockstael&quot;, &quot;alpha_nl&quot;: &quot;Bockstael&quot;, &quot;coord_x&quot;: 148525.0, &quot;coord_y&quot;: 174131.0, &quot;descr_fr&quot;: &quot;BOCKSTAEL&quot;, &quot;descr_nl&quot;: &quot;BOCKSTAEL&quot;, &quot;mode&quot;: &quot;T&quot;, &quot;numero_lig&quot;: 93, &quot;stop_id&quot;: &quot;4119F&quot;, &quot;succession&quot;: 9, &quot;terminus&quot;: &quot;LEGRAND&quot;}, &quot;type&quot;: &quot;Feature&quot;}, {&quot;bbox&quot;: [4.351034485152341, 50.87757256598858, 4.351034485152341, 50.87757256598858], &quot;geometry&quot;: {&quot;coordinates&quot;: [4.351034485152341, 50.87757256598858], &quot;type&quot;: &quot;Point&quot;}, &quot;id&quot;: &quot;4063&quot;, &quot;properties&quot;: {&quot;Code_Ligne&quot;: &quot;093t&quot;, &quot;Variante&quot;: 1, &quot;alpha_fr&quot;: &quot;Moorslede&quot;, &quot;alpha_nl&quot;: &quot;Moorslede&quot;, &quot;coord_x&quot;: 148753.0, &quot;coord_y&quot;: 174134.0, &quot;descr_fr&quot;: &quot;MOORSLEDE&quot;, &quot;descr_nl&quot;: &quot;MOORSLEDE&quot;, &quot;mode&quot;: &quot;T&quot;, &quot;numero_lig&quot;: 93, &quot;stop_id&quot;: &quot;6100&quot;, &quot;succession&quot;: 10, &quot;terminus&quot;: &quot;LEGRAND&quot;}, &quot;type&quot;: &quot;Feature&quot;}, {&quot;bbox&quot;: [4.3537911002190794, 50.87713245128807, 4.3537911002190794, 50.87713245128807], &quot;geometry&quot;: {&quot;coordinates&quot;: [4.3537911002190794, 50.87713245128807], &quot;type&quot;: &quot;Point&quot;}, &quot;id&quot;: &quot;4064&quot;, &quot;properties&quot;: {&quot;Code_Ligne&quot;: &quot;093t&quot;, &quot;Variante&quot;: 1, &quot;alpha_fr&quot;: &quot;Princesse Cl\\u00e9mentine&quot;, &quot;alpha_nl&quot;: &quot;Prinses Clementina&quot;, &quot;coord_x&quot;: 148947.0, &quot;coord_y&quot;: 174085.0, &quot;descr_fr&quot;: &quot;PRINC. CLEMENTINE&quot;, &quot;descr_nl&quot;: &quot;PRINS. CLEMENTINA&quot;, &quot;mode&quot;: &quot;T&quot;, &quot;numero_lig&quot;: 93, &quot;stop_id&quot;: &quot;6122&quot;, &quot;succession&quot;: 11, &quot;terminus&quot;: &quot;LEGRAND&quot;}, &quot;type&quot;: &quot;Feature&quot;}, {&quot;bbox&quot;: [4.359446721331183, 50.873726005277476, 4.359446721331183, 50.873726005277476], &quot;geometry&quot;: {&quot;coordinates&quot;: [4.359446721331183, 50.873726005277476], &quot;type&quot;: &quot;Point&quot;}, &quot;id&quot;: &quot;4065&quot;, &quot;properties&quot;: {&quot;Code_Ligne&quot;: &quot;093t&quot;, &quot;Variante&quot;: 1, &quot;alpha_fr&quot;: &quot;Marie-Christine&quot;, &quot;alpha_nl&quot;: &quot;Maria-Christina&quot;, &quot;coord_x&quot;: 149345.0, &quot;coord_y&quot;: 173706.0, &quot;descr_fr&quot;: &quot;MARIE-CHRISTINE&quot;, &quot;descr_nl&quot;: &quot;MARIA-CHRISTINA&quot;, &quot;mode&quot;: &quot;T&quot;, &quot;numero_lig&quot;: 93, &quot;stop_id&quot;: &quot;2878F&quot;, &quot;succession&quot;: 12, &quot;terminus&quot;: &quot;LEGRAND&quot;}, &quot;type&quot;: &quot;Feature&quot;}, {&quot;bbox&quot;: [4.361336743939855, 50.87075961116836, 4.361336743939855, 50.87075961116836], &quot;geometry&quot;: {&quot;coordinates&quot;: [4.361336743939855, 50.87075961116836], &quot;type&quot;: &quot;Point&quot;}, &quot;id&quot;: &quot;4066&quot;, &quot;properties&quot;: {&quot;Code_Ligne&quot;: &quot;093t&quot;, &quot;Variante&quot;: 1, &quot;alpha_fr&quot;: &quot;Jules De Trooz&quot;, &quot;alpha_nl&quot;: &quot;Jules De Trooz&quot;, &quot;coord_x&quot;: 149478.0, &quot;coord_y&quot;: 173376.0, &quot;descr_fr&quot;: &quot;JULES DE TROOZ&quot;, &quot;descr_nl&quot;: &quot;JULES DE TROOZ&quot;, &quot;mode&quot;: &quot;T&quot;, &quot;numero_lig&quot;: 93, &quot;stop_id&quot;: &quot;2543F&quot;, &quot;succession&quot;: 13, &quot;terminus&quot;: &quot;LEGRAND&quot;}, &quot;type&quot;: &quot;Feature&quot;}, {&quot;bbox&quot;: [4.362516080085689, 50.86916853961217, 4.362516080085689, 50.86916853961217], &quot;geometry&quot;: {&quot;coordinates&quot;: [4.362516080085689, 50.86916853961217], &quot;type&quot;: &quot;Point&quot;}, &quot;id&quot;: &quot;4067&quot;, &quot;properties&quot;: {&quot;Code_Ligne&quot;: &quot;093t&quot;, &quot;Variante&quot;: 1, &quot;alpha_fr&quot;: &quot;Masui&quot;, &quot;alpha_nl&quot;: &quot;Masui&quot;, &quot;coord_x&quot;: 149561.0, &quot;coord_y&quot;: 173199.0, &quot;descr_fr&quot;: &quot;MASUI&quot;, &quot;descr_nl&quot;: &quot;MASUI&quot;, &quot;mode&quot;: &quot;T&quot;, &quot;numero_lig&quot;: 93, &quot;stop_id&quot;: &quot;6178&quot;, &quot;succession&quot;: 14, &quot;terminus&quot;: &quot;LEGRAND&quot;}, &quot;type&quot;: &quot;Feature&quot;}, {&quot;bbox&quot;: [4.365911561285186, 50.864422215407245, 4.365911561285186, 50.864422215407245], &quot;geometry&quot;: {&quot;coordinates&quot;: [4.365911561285186, 50.864422215407245], &quot;type&quot;: &quot;Point&quot;}, &quot;id&quot;: &quot;4068&quot;, &quot;properties&quot;: {&quot;Code_Ligne&quot;: &quot;093t&quot;, &quot;Variante&quot;: 1, &quot;alpha_fr&quot;: &quot;Liedts&quot;, &quot;alpha_nl&quot;: &quot;Liedts&quot;, &quot;coord_x&quot;: 149800.0, &quot;coord_y&quot;: 172671.0, &quot;descr_fr&quot;: &quot;LIEDTS&quot;, &quot;descr_nl&quot;: &quot;LIEDTS&quot;, &quot;mode&quot;: &quot;T&quot;, &quot;numero_lig&quot;: 93, &quot;stop_id&quot;: &quot;2720F&quot;, &quot;succession&quot;: 15, &quot;terminus&quot;: &quot;LEGRAND&quot;}, &quot;type&quot;: &quot;Feature&quot;}, {&quot;bbox&quot;: [4.367545135312944, 50.86127591900916, 4.367545135312944, 50.86127591900916], &quot;geometry&quot;: {&quot;coordinates&quot;: [4.367545135312944, 50.86127591900916], &quot;type&quot;: &quot;Point&quot;}, &quot;id&quot;: &quot;4069&quot;, &quot;properties&quot;: {&quot;Code_Ligne&quot;: &quot;093t&quot;, &quot;Variante&quot;: 1, &quot;alpha_fr&quot;: &quot;Lefrancq&quot;, &quot;alpha_nl&quot;: &quot;Lefrancq&quot;, &quot;coord_x&quot;: 149915.0, &quot;coord_y&quot;: 172321.0, &quot;descr_fr&quot;: &quot;LEFRANCQ&quot;, &quot;descr_nl&quot;: &quot;LEFRANCQ&quot;, &quot;mode&quot;: &quot;T&quot;, &quot;numero_lig&quot;: 93, &quot;stop_id&quot;: &quot;6012G&quot;, &quot;succession&quot;: 16, &quot;terminus&quot;: &quot;LEGRAND&quot;}, &quot;type&quot;: &quot;Feature&quot;}, {&quot;bbox&quot;: [4.368170092469542, 50.85804869698293, 4.368170092469542, 50.85804869698293], &quot;geometry&quot;: {&quot;coordinates&quot;: [4.368170092469542, 50.85804869698293], &quot;type&quot;: &quot;Point&quot;}, &quot;id&quot;: &quot;4070&quot;, &quot;properties&quot;: {&quot;Code_Ligne&quot;: &quot;093t&quot;, &quot;Variante&quot;: 1, &quot;alpha_fr&quot;: &quot;Sainte-Marie&quot;, &quot;alpha_nl&quot;: &quot;Sint-Maria&quot;, &quot;coord_x&quot;: 149959.0, &quot;coord_y&quot;: 171962.0, &quot;descr_fr&quot;: &quot;SAINTE-MARIE&quot;, &quot;descr_nl&quot;: &quot;SINT-MARIA&quot;, &quot;mode&quot;: &quot;T&quot;, &quot;numero_lig&quot;: 93, &quot;stop_id&quot;: &quot;6412F&quot;, &quot;succession&quot;: 17, &quot;terminus&quot;: &quot;LEGRAND&quot;}, &quot;type&quot;: &quot;Feature&quot;}, {&quot;bbox&quot;: [4.367005516609014, 50.85579233118749, 4.367005516609014, 50.85579233118749], &quot;geometry&quot;: {&quot;coordinates&quot;: [4.367005516609014, 50.85579233118749], &quot;type&quot;: &quot;Point&quot;}, &quot;id&quot;: &quot;4071&quot;, &quot;properties&quot;: {&quot;Code_Ligne&quot;: &quot;093t&quot;, &quot;Variante&quot;: 1, &quot;alpha_fr&quot;: &quot;Gillon&quot;, &quot;alpha_nl&quot;: &quot;Gillon&quot;, &quot;coord_x&quot;: 149877.0, &quot;coord_y&quot;: 171711.0, &quot;descr_fr&quot;: &quot;GILLON&quot;, &quot;descr_nl&quot;: &quot;GILLON&quot;, &quot;mode&quot;: &quot;T&quot;, &quot;numero_lig&quot;: 93, &quot;stop_id&quot;: &quot;6014&quot;, &quot;succession&quot;: 18, &quot;terminus&quot;: &quot;LEGRAND&quot;}, &quot;type&quot;: &quot;Feature&quot;}, {&quot;bbox&quot;: [4.36575585254774, 50.853365150352275, 4.36575585254774, 50.853365150352275], &quot;geometry&quot;: {&quot;coordinates&quot;: [4.36575585254774, 50.853365150352275], &quot;type&quot;: &quot;Point&quot;}, &quot;id&quot;: &quot;4072&quot;, &quot;properties&quot;: {&quot;Code_Ligne&quot;: &quot;093t&quot;, &quot;Variante&quot;: 1, &quot;alpha_fr&quot;: &quot;Botanique&quot;, &quot;alpha_nl&quot;: &quot;Kruidtuin&quot;, &quot;coord_x&quot;: 149789.0, &quot;coord_y&quot;: 171441.0, &quot;descr_fr&quot;: &quot;BOTANIQUE&quot;, &quot;descr_nl&quot;: &quot;KRUIDTUIN&quot;, &quot;mode&quot;: &quot;T&quot;, &quot;numero_lig&quot;: 93, &quot;stop_id&quot;: &quot;6437F&quot;, &quot;succession&quot;: 19, &quot;terminus&quot;: &quot;LEGRAND&quot;}, &quot;type&quot;: &quot;Feature&quot;}, {&quot;bbox&quot;: [4.3642365483053105, 50.85041655494666, 4.3642365483053105, 50.85041655494666], &quot;geometry&quot;: {&quot;coordinates&quot;: [4.3642365483053105, 50.85041655494666], &quot;type&quot;: &quot;Point&quot;}, &quot;id&quot;: &quot;4073&quot;, &quot;properties&quot;: {&quot;Code_Ligne&quot;: &quot;093t&quot;, &quot;Variante&quot;: 1, &quot;alpha_fr&quot;: &quot;Congr\\u00e8s&quot;, &quot;alpha_nl&quot;: &quot;Congres&quot;, &quot;coord_x&quot;: 149682.0, &quot;coord_y&quot;: 171113.0, &quot;descr_fr&quot;: &quot;CONGRES&quot;, &quot;descr_nl&quot;: &quot;CONGRES&quot;, &quot;mode&quot;: &quot;T&quot;, &quot;numero_lig&quot;: 93, &quot;stop_id&quot;: &quot;6308F&quot;, &quot;succession&quot;: 20, &quot;terminus&quot;: &quot;LEGRAND&quot;}, &quot;type&quot;: &quot;Feature&quot;}, {&quot;bbox&quot;: [4.362447699809928, 50.84699148076832, 4.362447699809928, 50.84699148076832], &quot;geometry&quot;: {&quot;coordinates&quot;: [4.362447699809928, 50.84699148076832], &quot;type&quot;: &quot;Point&quot;}, &quot;id&quot;: &quot;4074&quot;, &quot;properties&quot;: {&quot;Code_Ligne&quot;: &quot;093t&quot;, &quot;Variante&quot;: 1, &quot;alpha_fr&quot;: &quot;Parc&quot;, &quot;alpha_nl&quot;: &quot;Park&quot;, &quot;coord_x&quot;: 149556.0, &quot;coord_y&quot;: 170732.0, &quot;descr_fr&quot;: &quot;PARC&quot;, &quot;descr_nl&quot;: &quot;PARK&quot;, &quot;mode&quot;: &quot;T&quot;, &quot;numero_lig&quot;: 93, &quot;stop_id&quot;: &quot;6309F&quot;, &quot;succession&quot;: 21, &quot;terminus&quot;: &quot;LEGRAND&quot;}, &quot;type&quot;: &quot;Feature&quot;}, {&quot;bbox&quot;: [4.36073008428714, 50.84369223378736, 4.36073008428714, 50.84369223378736], &quot;geometry&quot;: {&quot;coordinates&quot;: [4.36073008428714, 50.84369223378736], &quot;type&quot;: &quot;Point&quot;}, &quot;id&quot;: &quot;4075&quot;, &quot;properties&quot;: {&quot;Code_Ligne&quot;: &quot;093t&quot;, &quot;Variante&quot;: 1, &quot;alpha_fr&quot;: &quot;Palais&quot;, &quot;alpha_nl&quot;: &quot;Paleizen&quot;, &quot;coord_x&quot;: 149435.0, &quot;coord_y&quot;: 170365.0, &quot;descr_fr&quot;: &quot;PALAIS&quot;, &quot;descr_nl&quot;: &quot;PALEIZEN&quot;, &quot;mode&quot;: &quot;T&quot;, &quot;numero_lig&quot;: 93, &quot;stop_id&quot;: &quot;6310F&quot;, &quot;succession&quot;: 22, &quot;terminus&quot;: &quot;LEGRAND&quot;}, &quot;type&quot;: &quot;Feature&quot;}, {&quot;bbox&quot;: [4.358146463722468, 50.84135476793278, 4.358146463722468, 50.84135476793278], &quot;geometry&quot;: {&quot;coordinates&quot;: [4.358146463722468, 50.84135476793278], &quot;type&quot;: &quot;Point&quot;}, &quot;id&quot;: &quot;4076&quot;, &quot;properties&quot;: {&quot;Code_Ligne&quot;: &quot;093t&quot;, &quot;Variante&quot;: 1, &quot;alpha_fr&quot;: &quot;Royale&quot;, &quot;alpha_nl&quot;: &quot;Koning&quot;, &quot;coord_x&quot;: 149253.0, &quot;coord_y&quot;: 170105.0, &quot;descr_fr&quot;: &quot;ROYALE&quot;, &quot;descr_nl&quot;: &quot;KONING&quot;, &quot;mode&quot;: &quot;T&quot;, &quot;numero_lig&quot;: 93, &quot;stop_id&quot;: &quot;6311&quot;, &quot;succession&quot;: 23, &quot;terminus&quot;: &quot;LEGRAND&quot;}, &quot;type&quot;: &quot;Feature&quot;}, {&quot;bbox&quot;: [4.356386247818854, 50.840141019738866, 4.356386247818854, 50.840141019738866], &quot;geometry&quot;: {&quot;coordinates&quot;: [4.356386247818854, 50.840141019738866], &quot;type&quot;: &quot;Point&quot;}, &quot;id&quot;: &quot;4077&quot;, &quot;properties&quot;: {&quot;Code_Ligne&quot;: &quot;093t&quot;, &quot;Variante&quot;: 1, &quot;alpha_fr&quot;: &quot;Petit Sablon&quot;, &quot;alpha_nl&quot;: &quot;Kleine Zavel&quot;, &quot;coord_x&quot;: 149129.0, &quot;coord_y&quot;: 169970.0, &quot;descr_fr&quot;: &quot;PETIT SABLON&quot;, &quot;descr_nl&quot;: &quot;KLEINE ZAVEL&quot;, &quot;mode&quot;: &quot;T&quot;, &quot;numero_lig&quot;: 93, &quot;stop_id&quot;: &quot;6312&quot;, &quot;succession&quot;: 24, &quot;terminus&quot;: &quot;LEGRAND&quot;}, &quot;type&quot;: &quot;Feature&quot;}, {&quot;bbox&quot;: [4.3534057788318865, 50.83701232781765, 4.3534057788318865, 50.83701232781765], &quot;geometry&quot;: {&quot;coordinates&quot;: [4.3534057788318865, 50.83701232781765], &quot;type&quot;: &quot;Point&quot;}, &quot;id&quot;: &quot;4078&quot;, &quot;properties&quot;: {&quot;Code_Ligne&quot;: &quot;093t&quot;, &quot;Variante&quot;: 1, &quot;alpha_fr&quot;: &quot;Poelaert&quot;, &quot;alpha_nl&quot;: &quot;Poelaert&quot;, &quot;coord_x&quot;: 148919.0, &quot;coord_y&quot;: 169622.0, &quot;descr_fr&quot;: &quot;POELAERT&quot;, &quot;descr_nl&quot;: &quot;POELAERT&quot;, &quot;mode&quot;: &quot;T&quot;, &quot;numero_lig&quot;: 93, &quot;stop_id&quot;: &quot;6313&quot;, &quot;succession&quot;: 25, &quot;terminus&quot;: &quot;LEGRAND&quot;}, &quot;type&quot;: &quot;Feature&quot;}, {&quot;bbox&quot;: [4.355166500952767, 50.83567309354914, 4.355166500952767, 50.83567309354914], &quot;geometry&quot;: {&quot;coordinates&quot;: [4.355166500952767, 50.83567309354914], &quot;type&quot;: &quot;Point&quot;}, &quot;id&quot;: &quot;4079&quot;, &quot;properties&quot;: {&quot;Code_Ligne&quot;: &quot;093t&quot;, &quot;Variante&quot;: 1, &quot;alpha_fr&quot;: &quot;Louise&quot;, &quot;alpha_nl&quot;: &quot;Louiza&quot;, &quot;coord_x&quot;: 149043.0, &quot;coord_y&quot;: 169473.0, &quot;descr_fr&quot;: &quot;LOUISE&quot;, &quot;descr_nl&quot;: &quot;LOUIZA&quot;, &quot;mode&quot;: &quot;T&quot;, &quot;numero_lig&quot;: 93, &quot;stop_id&quot;: &quot;6314&quot;, &quot;succession&quot;: 26, &quot;terminus&quot;: &quot;LEGRAND&quot;}, &quot;type&quot;: &quot;Feature&quot;}, {&quot;bbox&quot;: [4.357750763334799, 50.83298547602384, 4.357750763334799, 50.83298547602384], &quot;geometry&quot;: {&quot;coordinates&quot;: [4.357750763334799, 50.83298547602384], &quot;type&quot;: &quot;Point&quot;}, &quot;id&quot;: &quot;4080&quot;, &quot;properties&quot;: {&quot;Code_Ligne&quot;: &quot;093t&quot;, &quot;Variante&quot;: 1, &quot;alpha_fr&quot;: &quot;St\\u00e9phanie&quot;, &quot;alpha_nl&quot;: &quot;Stefania&quot;, &quot;coord_x&quot;: 149225.0, &quot;coord_y&quot;: 169174.0, &quot;descr_fr&quot;: &quot;STEPHANIE&quot;, &quot;descr_nl&quot;: &quot;STEFANIA&quot;, &quot;mode&quot;: &quot;T&quot;, &quot;numero_lig&quot;: 93, &quot;stop_id&quot;: &quot;5405&quot;, &quot;succession&quot;: 27, &quot;terminus&quot;: &quot;LEGRAND&quot;}, &quot;type&quot;: &quot;Feature&quot;}, {&quot;bbox&quot;: [4.362279568533555, 50.828607875368455, 4.362279568533555, 50.828607875368455], &quot;geometry&quot;: {&quot;coordinates&quot;: [4.362279568533555, 50.828607875368455], &quot;type&quot;: &quot;Point&quot;}, &quot;id&quot;: &quot;4081&quot;, &quot;properties&quot;: {&quot;Code_Ligne&quot;: &quot;093t&quot;, &quot;Variante&quot;: 1, &quot;alpha_fr&quot;: &quot;Defacqz&quot;, &quot;alpha_nl&quot;: &quot;Defacqz&quot;, &quot;coord_x&quot;: 149544.0, &quot;coord_y&quot;: 168687.0, &quot;descr_fr&quot;: &quot;DEFACQZ&quot;, &quot;descr_nl&quot;: &quot;DEFACQZ&quot;, &quot;mode&quot;: &quot;T&quot;, &quot;numero_lig&quot;: 93, &quot;stop_id&quot;: &quot;5406&quot;, &quot;succession&quot;: 28, &quot;terminus&quot;: &quot;LEGRAND&quot;}, &quot;type&quot;: &quot;Feature&quot;}, {&quot;bbox&quot;: [4.36406814686707, 50.82683700686281, 4.36406814686707, 50.82683700686281], &quot;geometry&quot;: {&quot;coordinates&quot;: [4.36406814686707, 50.82683700686281], &quot;type&quot;: &quot;Point&quot;}, &quot;id&quot;: &quot;4082&quot;, &quot;properties&quot;: {&quot;Code_Ligne&quot;: &quot;093t&quot;, &quot;Variante&quot;: 1, &quot;alpha_fr&quot;: &quot;Bailli&quot;, &quot;alpha_nl&quot;: &quot;Baljuw&quot;, &quot;coord_x&quot;: 149670.0, &quot;coord_y&quot;: 168490.0, &quot;descr_fr&quot;: &quot;BAILLI&quot;, &quot;descr_nl&quot;: &quot;BALJUW&quot;, &quot;mode&quot;: &quot;T&quot;, &quot;numero_lig&quot;: 93, &quot;stop_id&quot;: &quot;5404&quot;, &quot;succession&quot;: 29, &quot;terminus&quot;: &quot;LEGRAND&quot;}, &quot;type&quot;: &quot;Feature&quot;}, {&quot;bbox&quot;: [4.368042283130053, 50.822980551241926, 4.368042283130053, 50.822980551241926], &quot;geometry&quot;: {&quot;coordinates&quot;: [4.368042283130053, 50.822980551241926], &quot;type&quot;: &quot;Point&quot;}, &quot;id&quot;: &quot;4083&quot;, &quot;properties&quot;: {&quot;Code_Ligne&quot;: &quot;093t&quot;, &quot;Variante&quot;: 1, &quot;alpha_fr&quot;: &quot;Vleurgat&quot;, &quot;alpha_nl&quot;: &quot;Vleurgat&quot;, &quot;coord_x&quot;: 149950.0, &quot;coord_y&quot;: 168061.0, &quot;descr_fr&quot;: &quot;VLEURGAT&quot;, &quot;descr_nl&quot;: &quot;VLEURGAT&quot;, &quot;mode&quot;: &quot;T&quot;, &quot;numero_lig&quot;: 93, &quot;stop_id&quot;: &quot;5408&quot;, &quot;succession&quot;: 30, &quot;terminus&quot;: &quot;LEGRAND&quot;}, &quot;type&quot;: &quot;Feature&quot;}, {&quot;bbox&quot;: [4.370738565546524, 50.81892622224307, 4.370738565546524, 50.81892622224307], &quot;geometry&quot;: {&quot;coordinates&quot;: [4.370738565546524, 50.81892622224307], &quot;type&quot;: &quot;Point&quot;}, &quot;id&quot;: &quot;4084&quot;, &quot;properties&quot;: {&quot;Code_Ligne&quot;: &quot;093t&quot;, &quot;Variante&quot;: 1, &quot;alpha_fr&quot;: &quot;Abbaye&quot;, &quot;alpha_nl&quot;: &quot;Abdij&quot;, &quot;coord_x&quot;: 150140.0, &quot;coord_y&quot;: 167610.0, &quot;descr_fr&quot;: &quot;ABBAYE&quot;, &quot;descr_nl&quot;: &quot;ABDIJ&quot;, &quot;mode&quot;: &quot;T&quot;, &quot;numero_lig&quot;: 93, &quot;stop_id&quot;: &quot;5409&quot;, &quot;succession&quot;: 31, &quot;terminus&quot;: &quot;LEGRAND&quot;}, &quot;type&quot;: &quot;Feature&quot;}, {&quot;bbox&quot;: [4.371873601278683, 50.815959628178746, 4.371873601278683, 50.815959628178746], &quot;geometry&quot;: {&quot;coordinates&quot;: [4.371873601278683, 50.815959628178746], &quot;type&quot;: &quot;Point&quot;}, &quot;id&quot;: &quot;4085&quot;, &quot;properties&quot;: {&quot;Code_Ligne&quot;: &quot;093t&quot;, &quot;Variante&quot;: 1, &quot;alpha_fr&quot;: &quot;Legrand&quot;, &quot;alpha_nl&quot;: &quot;Legrand&quot;, &quot;coord_x&quot;: 150220.0, &quot;coord_y&quot;: 167280.0, &quot;descr_fr&quot;: &quot;LEGRAND&quot;, &quot;descr_nl&quot;: &quot;LEGRAND&quot;, &quot;mode&quot;: &quot;T&quot;, &quot;numero_lig&quot;: 93, &quot;stop_id&quot;: &quot;1047F&quot;, &quot;succession&quot;: 32, &quot;terminus&quot;: &quot;LEGRAND&quot;}, &quot;type&quot;: &quot;Feature&quot;}, {&quot;bbox&quot;: [4.371696281959331, 50.816689588235036, 4.371696281959331, 50.816689588235036], &quot;geometry&quot;: {&quot;coordinates&quot;: [4.371696281959331, 50.816689588235036], &quot;type&quot;: &quot;Point&quot;}, &quot;id&quot;: &quot;4086&quot;, &quot;properties&quot;: {&quot;Code_Ligne&quot;: &quot;093t&quot;, &quot;Variante&quot;: 2, &quot;alpha_fr&quot;: &quot;Legrand&quot;, &quot;alpha_nl&quot;: &quot;Legrand&quot;, &quot;coord_x&quot;: 150207.5, &quot;coord_y&quot;: 167361.2, &quot;descr_fr&quot;: &quot;LEGRAND&quot;, &quot;descr_nl&quot;: &quot;LEGRAND&quot;, &quot;mode&quot;: &quot;T&quot;, &quot;numero_lig&quot;: 93, &quot;stop_id&quot;: &quot;1059&quot;, &quot;succession&quot;: 1, &quot;terminus&quot;: &quot;STADE&quot;}, &quot;type&quot;: &quot;Feature&quot;}, {&quot;bbox&quot;: [4.3705115575959725, 50.81983417469762, 4.3705115575959725, 50.81983417469762], &quot;geometry&quot;: {&quot;coordinates&quot;: [4.3705115575959725, 50.81983417469762], &quot;type&quot;: &quot;Point&quot;}, &quot;id&quot;: &quot;4087&quot;, &quot;properties&quot;: {&quot;Code_Ligne&quot;: &quot;093t&quot;, &quot;Variante&quot;: 2, &quot;alpha_fr&quot;: &quot;Abbaye&quot;, &quot;alpha_nl&quot;: &quot;Abdij&quot;, &quot;coord_x&quot;: 150124.0, &quot;coord_y&quot;: 167711.0, &quot;descr_fr&quot;: &quot;ABBAYE&quot;, &quot;descr_nl&quot;: &quot;ABDIJ&quot;, &quot;mode&quot;: &quot;T&quot;, &quot;numero_lig&quot;: 93, &quot;stop_id&quot;: &quot;5466&quot;, &quot;succession&quot;: 2, &quot;terminus&quot;: &quot;STADE&quot;}, &quot;type&quot;: &quot;Feature&quot;}, {&quot;bbox&quot;: [4.366996294323193, 50.824108737302026, 4.366996294323193, 50.824108737302026], &quot;geometry&quot;: {&quot;coordinates&quot;: [4.366996294323193, 50.824108737302026], &quot;type&quot;: &quot;Point&quot;}, &quot;id&quot;: &quot;4088&quot;, &quot;properties&quot;: {&quot;Code_Ligne&quot;: &quot;093t&quot;, &quot;Variante&quot;: 2, &quot;alpha_fr&quot;: &quot;Vleurgat&quot;, &quot;alpha_nl&quot;: &quot;Vleurgat&quot;, &quot;coord_x&quot;: 149876.3, &quot;coord_y&quot;: 168186.5, &quot;descr_fr&quot;: &quot;VLEURGAT&quot;, &quot;descr_nl&quot;: &quot;VLEURGAT&quot;, &quot;mode&quot;: &quot;T&quot;, &quot;numero_lig&quot;: 93, &quot;stop_id&quot;: &quot;5467&quot;, &quot;succession&quot;: 3, &quot;terminus&quot;: &quot;STADE&quot;}, &quot;type&quot;: &quot;Feature&quot;}, {&quot;bbox&quot;: [4.363358400844224, 50.827628061814046, 4.363358400844224, 50.827628061814046], &quot;geometry&quot;: {&quot;coordinates&quot;: [4.363358400844224, 50.827628061814046], &quot;type&quot;: &quot;Point&quot;}, &quot;id&quot;: &quot;4089&quot;, &quot;properties&quot;: {&quot;Code_Ligne&quot;: &quot;093t&quot;, &quot;Variante&quot;: 2, &quot;alpha_fr&quot;: &quot;Bailli&quot;, &quot;alpha_nl&quot;: &quot;Baljuw&quot;, &quot;coord_x&quot;: 149620.0, &quot;coord_y&quot;: 168578.0, &quot;descr_fr&quot;: &quot;BAILLI&quot;, &quot;descr_nl&quot;: &quot;BALJUW&quot;, &quot;mode&quot;: &quot;T&quot;, &quot;numero_lig&quot;: 93, &quot;stop_id&quot;: &quot;5475&quot;, &quot;succession&quot;: 4, &quot;terminus&quot;: &quot;STADE&quot;}, &quot;type&quot;: &quot;Feature&quot;}, {&quot;bbox&quot;: [4.361541374981944, 50.829416896644275, 4.361541374981944, 50.829416896644275], &quot;geometry&quot;: {&quot;coordinates&quot;: [4.361541374981944, 50.829416896644275], &quot;type&quot;: &quot;Point&quot;}, &quot;id&quot;: &quot;4090&quot;, &quot;properties&quot;: {&quot;Code_Ligne&quot;: &quot;093t&quot;, &quot;Variante&quot;: 2, &quot;alpha_fr&quot;: &quot;Defacqz&quot;, &quot;alpha_nl&quot;: &quot;Defacqz&quot;, &quot;coord_x&quot;: 149492.0, &quot;coord_y&quot;: 168777.0, &quot;descr_fr&quot;: &quot;DEFACQZ&quot;, &quot;descr_nl&quot;: &quot;DEFACQZ&quot;, &quot;mode&quot;: &quot;T&quot;, &quot;numero_lig&quot;: 93, &quot;stop_id&quot;: &quot;5469&quot;, &quot;succession&quot;: 5, &quot;terminus&quot;: &quot;STADE&quot;}, &quot;type&quot;: &quot;Feature&quot;}, {&quot;bbox&quot;: [4.35765135319002, 50.83318323724628, 4.35765135319002, 50.83318323724628], &quot;geometry&quot;: {&quot;coordinates&quot;: [4.35765135319002, 50.83318323724628], &quot;type&quot;: &quot;Point&quot;}, &quot;id&quot;: &quot;4091&quot;, &quot;properties&quot;: {&quot;Code_Ligne&quot;: &quot;093t&quot;, &quot;Variante&quot;: 2, &quot;alpha_fr&quot;: &quot;St\\u00e9phanie&quot;, &quot;alpha_nl&quot;: &quot;Stefania&quot;, &quot;coord_x&quot;: 149218.0, &quot;coord_y&quot;: 169196.0, &quot;descr_fr&quot;: &quot;STEPHANIE&quot;, &quot;descr_nl&quot;: &quot;STEFANIA&quot;, &quot;mode&quot;: &quot;T&quot;, &quot;numero_lig&quot;: 93, &quot;stop_id&quot;: &quot;5470&quot;, &quot;succession&quot;: 6, &quot;terminus&quot;: &quot;STADE&quot;}, &quot;type&quot;: &quot;Feature&quot;}, {&quot;bbox&quot;: [4.355038677147479, 50.83588882836209, 4.355038677147479, 50.83588882836209], &quot;geometry&quot;: {&quot;coordinates&quot;: [4.355038677147479, 50.83588882836209], &quot;type&quot;: &quot;Point&quot;}, &quot;id&quot;: &quot;4092&quot;, &quot;properties&quot;: {&quot;Code_Ligne&quot;: &quot;093t&quot;, &quot;Variante&quot;: 2, &quot;alpha_fr&quot;: &quot;Louise&quot;, &quot;alpha_nl&quot;: &quot;Louiza&quot;, &quot;coord_x&quot;: 149034.0, &quot;coord_y&quot;: 169497.0, &quot;descr_fr&quot;: &quot;LOUISE&quot;, &quot;descr_nl&quot;: &quot;LOUIZA&quot;, &quot;mode&quot;: &quot;T&quot;, &quot;numero_lig&quot;: 93, &quot;stop_id&quot;: &quot;6361&quot;, &quot;succession&quot;: 7, &quot;terminus&quot;: &quot;STADE&quot;}, &quot;type&quot;: &quot;Feature&quot;}, {&quot;bbox&quot;: [4.353263749662411, 50.83721906930568, 4.353263749662411, 50.83721906930568], &quot;geometry&quot;: {&quot;coordinates&quot;: [4.353263749662411, 50.83721906930568], &quot;type&quot;: &quot;Point&quot;}, &quot;id&quot;: &quot;4093&quot;, &quot;properties&quot;: {&quot;Code_Ligne&quot;: &quot;093t&quot;, &quot;Variante&quot;: 2, &quot;alpha_fr&quot;: &quot;Poelaert&quot;, &quot;alpha_nl&quot;: &quot;Poelaert&quot;, &quot;coord_x&quot;: 148909.0, &quot;coord_y&quot;: 169645.0, &quot;descr_fr&quot;: &quot;POELAERT&quot;, &quot;descr_nl&quot;: &quot;POELAERT&quot;, &quot;mode&quot;: &quot;T&quot;, &quot;numero_lig&quot;: 93, &quot;stop_id&quot;: &quot;6352&quot;, &quot;succession&quot;: 8, &quot;terminus&quot;: &quot;STADE&quot;}, &quot;type&quot;: &quot;Feature&quot;}, {&quot;bbox&quot;: [4.355804287574705, 50.83963754671826, 4.355804287574705, 50.83963754671826], &quot;geometry&quot;: {&quot;coordinates&quot;: [4.355804287574705, 50.83963754671826], &quot;type&quot;: &quot;Point&quot;}, &quot;id&quot;: &quot;4094&quot;, &quot;properties&quot;: {&quot;Code_Ligne&quot;: &quot;093t&quot;, &quot;Variante&quot;: 2, &quot;alpha_fr&quot;: &quot;Petit Sablon&quot;, &quot;alpha_nl&quot;: &quot;Kleine Zavel&quot;, &quot;coord_x&quot;: 149088.0, &quot;coord_y&quot;: 169914.0, &quot;descr_fr&quot;: &quot;PETIT SABLON&quot;, &quot;descr_nl&quot;: &quot;KLEINE ZAVEL&quot;, &quot;mode&quot;: &quot;T&quot;, &quot;numero_lig&quot;: 93, &quot;stop_id&quot;: &quot;6353F&quot;, &quot;succession&quot;: 9, &quot;terminus&quot;: &quot;STADE&quot;}, &quot;type&quot;: &quot;Feature&quot;}, {&quot;bbox&quot;: [4.358515562464473, 50.84156155764179, 4.358515562464473, 50.84156155764179], &quot;geometry&quot;: {&quot;coordinates&quot;: [4.358515562464473, 50.84156155764179], &quot;type&quot;: &quot;Point&quot;}, &quot;id&quot;: &quot;4095&quot;, &quot;properties&quot;: {&quot;Code_Ligne&quot;: &quot;093t&quot;, &quot;Variante&quot;: 2, &quot;alpha_fr&quot;: &quot;Royale&quot;, &quot;alpha_nl&quot;: &quot;Koning&quot;, &quot;coord_x&quot;: 149279.0, &quot;coord_y&quot;: 170128.0, &quot;descr_fr&quot;: &quot;ROYALE&quot;, &quot;descr_nl&quot;: &quot;KONING&quot;, &quot;mode&quot;: &quot;T&quot;, &quot;numero_lig&quot;: 93, &quot;stop_id&quot;: &quot;6354&quot;, &quot;succession&quot;: 10, &quot;terminus&quot;: &quot;STADE&quot;}, &quot;type&quot;: &quot;Feature&quot;}, {&quot;bbox&quot;: [4.360943017115002, 50.84397991152229, 4.360943017115002, 50.84397991152229], &quot;geometry&quot;: {&quot;coordinates&quot;: [4.360943017115002, 50.84397991152229], &quot;type&quot;: &quot;Point&quot;}, &quot;id&quot;: &quot;4096&quot;, &quot;properties&quot;: {&quot;Code_Ligne&quot;: &quot;093t&quot;, &quot;Variante&quot;: 2, &quot;alpha_fr&quot;: &quot;Palais&quot;, &quot;alpha_nl&quot;: &quot;Paleizen&quot;, &quot;coord_x&quot;: 149450.0, &quot;coord_y&quot;: 170397.0, &quot;descr_fr&quot;: &quot;PALAIS&quot;, &quot;descr_nl&quot;: &quot;PALEIZEN&quot;, &quot;mode&quot;: &quot;T&quot;, &quot;numero_lig&quot;: 93, &quot;stop_id&quot;: &quot;6355F&quot;, &quot;succession&quot;: 11, &quot;terminus&quot;: &quot;STADE&quot;}, &quot;type&quot;: &quot;Feature&quot;}, {&quot;bbox&quot;: [4.362362540336668, 50.84668583326249, 4.362362540336668, 50.84668583326249], &quot;geometry&quot;: {&quot;coordinates&quot;: [4.362362540336668, 50.84668583326249], &quot;type&quot;: &quot;Point&quot;}, &quot;id&quot;: &quot;4097&quot;, &quot;properties&quot;: {&quot;Code_Ligne&quot;: &quot;093t&quot;, &quot;Variante&quot;: 2, &quot;alpha_fr&quot;: &quot;Parc&quot;, &quot;alpha_nl&quot;: &quot;Park&quot;, &quot;coord_x&quot;: 149550.0, &quot;coord_y&quot;: 170698.0, &quot;descr_fr&quot;: &quot;PARC&quot;, &quot;descr_nl&quot;: &quot;PARK&quot;, &quot;mode&quot;: &quot;T&quot;, &quot;numero_lig&quot;: 93, &quot;stop_id&quot;: &quot;6356F&quot;, &quot;succession&quot;: 12, &quot;terminus&quot;: &quot;STADE&quot;}, &quot;type&quot;: &quot;Feature&quot;}, {&quot;bbox&quot;: [4.364435333898528, 50.850686246335016, 4.364435333898528, 50.850686246335016], &quot;geometry&quot;: {&quot;coordinates&quot;: [4.364435333898528, 50.850686246335016], &quot;type&quot;: &quot;Point&quot;}, &quot;id&quot;: &quot;4098&quot;, &quot;properties&quot;: {&quot;Code_Ligne&quot;: &quot;093t&quot;, &quot;Variante&quot;: 2, &quot;alpha_fr&quot;: &quot;Congr\\u00e8s&quot;, &quot;alpha_nl&quot;: &quot;Congres&quot;, &quot;coord_x&quot;: 149696.0, &quot;coord_y&quot;: 171143.0, &quot;descr_fr&quot;: &quot;CONGRES&quot;, &quot;descr_nl&quot;: &quot;CONGRES&quot;, &quot;mode&quot;: &quot;T&quot;, &quot;numero_lig&quot;: 93, &quot;stop_id&quot;: &quot;6357F&quot;, &quot;succession&quot;: 13, &quot;terminus&quot;: &quot;STADE&quot;}, &quot;type&quot;: &quot;Feature&quot;}, {&quot;bbox&quot;: [4.365987319561625, 50.85370405863422, 4.365987319561625, 50.85370405863422], &quot;geometry&quot;: {&quot;coordinates&quot;: [4.365987319561625, 50.85370405863422], &quot;type&quot;: &quot;Point&quot;}, &quot;id&quot;: &quot;4099&quot;, &quot;properties&quot;: {&quot;Code_Ligne&quot;: &quot;093t&quot;, &quot;Variante&quot;: 2, &quot;alpha_fr&quot;: &quot;Botanique&quot;, &quot;alpha_nl&quot;: &quot;Kruidtuin&quot;, &quot;coord_x&quot;: 149805.3, &quot;coord_y&quot;: 171478.7, &quot;descr_fr&quot;: &quot;BOTANIQUE&quot;, &quot;descr_nl&quot;: &quot;KRUIDTUIN&quot;, &quot;mode&quot;: &quot;T&quot;, &quot;numero_lig&quot;: 93, &quot;stop_id&quot;: &quot;6434F&quot;, &quot;succession&quot;: 14, &quot;terminus&quot;: &quot;STADE&quot;}, &quot;type&quot;: &quot;Feature&quot;}, {&quot;bbox&quot;: [4.36721854299217, 50.85606201758055, 4.36721854299217, 50.85606201758055], &quot;geometry&quot;: {&quot;coordinates&quot;: [4.36721854299217, 50.85606201758055], &quot;type&quot;: &quot;Point&quot;}, &quot;id&quot;: &quot;4100&quot;, &quot;properties&quot;: {&quot;Code_Ligne&quot;: &quot;093t&quot;, &quot;Variante&quot;: 2, &quot;alpha_fr&quot;: &quot;Gillon&quot;, &quot;alpha_nl&quot;: &quot;Gillon&quot;, &quot;coord_x&quot;: 149892.0, &quot;coord_y&quot;: 171741.0, &quot;descr_fr&quot;: &quot;GILLON&quot;, &quot;descr_nl&quot;: &quot;GILLON&quot;, &quot;mode&quot;: &quot;T&quot;, &quot;numero_lig&quot;: 93, &quot;stop_id&quot;: &quot;6359F&quot;, &quot;succession&quot;: 15, &quot;terminus&quot;: &quot;STADE&quot;}, &quot;type&quot;: &quot;Feature&quot;}, {&quot;bbox&quot;: [4.368170095648382, 50.85944206665592, 4.368170095648382, 50.85944206665592], &quot;geometry&quot;: {&quot;coordinates&quot;: [4.368170095648382, 50.85944206665592], &quot;type&quot;: &quot;Point&quot;}, &quot;id&quot;: &quot;4101&quot;, &quot;properties&quot;: {&quot;Code_Ligne&quot;: &quot;093t&quot;, &quot;Variante&quot;: 2, &quot;alpha_fr&quot;: &quot;Sainte-Marie&quot;, &quot;alpha_nl&quot;: &quot;Sint-Maria&quot;, &quot;coord_x&quot;: 149959.0, &quot;coord_y&quot;: 172117.0, &quot;descr_fr&quot;: &quot;SAINTE-MARIE&quot;, &quot;descr_nl&quot;: &quot;SINT-MARIA&quot;, &quot;mode&quot;: &quot;T&quot;, &quot;numero_lig&quot;: 93, &quot;stop_id&quot;: &quot;6413F&quot;, &quot;succession&quot;: 16, &quot;terminus&quot;: &quot;STADE&quot;}, &quot;type&quot;: &quot;Feature&quot;}, {&quot;bbox&quot;: [4.367559336644113, 50.86150065594779, 4.367559336644113, 50.86150065594779], &quot;geometry&quot;: {&quot;coordinates&quot;: [4.367559336644113, 50.86150065594779], &quot;type&quot;: &quot;Point&quot;}, &quot;id&quot;: &quot;4102&quot;, &quot;properties&quot;: {&quot;Code_Ligne&quot;: &quot;093t&quot;, &quot;Variante&quot;: 2, &quot;alpha_fr&quot;: &quot;Lefrancq&quot;, &quot;alpha_nl&quot;: &quot;Lefrancq&quot;, &quot;coord_x&quot;: 149916.0, &quot;coord_y&quot;: 172346.0, &quot;descr_fr&quot;: &quot;LEFRANCQ&quot;, &quot;descr_nl&quot;: &quot;LEFRANCQ&quot;, &quot;mode&quot;: &quot;T&quot;, &quot;numero_lig&quot;: 93, &quot;stop_id&quot;: &quot;6066G&quot;, &quot;succession&quot;: 17, &quot;terminus&quot;: &quot;STADE&quot;}, &quot;type&quot;: &quot;Feature&quot;}, {&quot;bbox&quot;: [4.365599029351247, 50.86497056672802, 4.365599029351247, 50.86497056672802], &quot;geometry&quot;: {&quot;coordinates&quot;: [4.365599029351247, 50.86497056672802], &quot;type&quot;: &quot;Point&quot;}, &quot;id&quot;: &quot;4103&quot;, &quot;properties&quot;: {&quot;Code_Ligne&quot;: &quot;093t&quot;, &quot;Variante&quot;: 2, &quot;alpha_fr&quot;: &quot;Liedts&quot;, &quot;alpha_nl&quot;: &quot;Liedts&quot;, &quot;coord_x&quot;: 149778.0, &quot;coord_y&quot;: 172732.0, &quot;descr_fr&quot;: &quot;LIEDTS&quot;, &quot;descr_nl&quot;: &quot;LIEDTS&quot;, &quot;mode&quot;: &quot;T&quot;, &quot;numero_lig&quot;: 93, &quot;stop_id&quot;: &quot;2726F&quot;, &quot;succession&quot;: 18, &quot;terminus&quot;: &quot;STADE&quot;}, &quot;type&quot;: &quot;Feature&quot;}, {&quot;bbox&quot;: [4.362771816655253, 50.86893482557671, 4.362771816655253, 50.86893482557671], &quot;geometry&quot;: {&quot;coordinates&quot;: [4.362771816655253, 50.86893482557671], &quot;type&quot;: &quot;Point&quot;}, &quot;id&quot;: &quot;4104&quot;, &quot;properties&quot;: {&quot;Code_Ligne&quot;: &quot;093t&quot;, &quot;Variante&quot;: 2, &quot;alpha_fr&quot;: &quot;Masui&quot;, &quot;alpha_nl&quot;: &quot;Masui&quot;, &quot;coord_x&quot;: 149579.0, &quot;coord_y&quot;: 173173.0, &quot;descr_fr&quot;: &quot;MASUI&quot;, &quot;descr_nl&quot;: &quot;MASUI&quot;, &quot;mode&quot;: &quot;T&quot;, &quot;numero_lig&quot;: 93, &quot;stop_id&quot;: &quot;6179&quot;, &quot;succession&quot;: 19, &quot;terminus&quot;: &quot;STADE&quot;}, &quot;type&quot;: &quot;Feature&quot;}, {&quot;bbox&quot;: [4.361237238930749, 50.87116413070525, 4.361237238930749, 50.87116413070525], &quot;geometry&quot;: {&quot;coordinates&quot;: [4.361237238930749, 50.87116413070525], &quot;type&quot;: &quot;Point&quot;}, &quot;id&quot;: &quot;4105&quot;, &quot;properties&quot;: {&quot;Code_Ligne&quot;: &quot;093t&quot;, &quot;Variante&quot;: 2, &quot;alpha_fr&quot;: &quot;Jules De Trooz&quot;, &quot;alpha_nl&quot;: &quot;Jules De Trooz&quot;, &quot;coord_x&quot;: 149471.0, &quot;coord_y&quot;: 173421.0, &quot;descr_fr&quot;: &quot;JULES DE TROOZ&quot;, &quot;descr_nl&quot;: &quot;JULES DE TROOZ&quot;, &quot;mode&quot;: &quot;T&quot;, &quot;numero_lig&quot;: 93, &quot;stop_id&quot;: &quot;2537F&quot;, &quot;succession&quot;: 20, &quot;terminus&quot;: &quot;STADE&quot;}, &quot;type&quot;: &quot;Feature&quot;}, {&quot;bbox&quot;: [4.359318798592136, 50.87402264744385, 4.359318798592136, 50.87402264744385], &quot;geometry&quot;: {&quot;coordinates&quot;: [4.359318798592136, 50.87402264744385], &quot;type&quot;: &quot;Point&quot;}, &quot;id&quot;: &quot;4106&quot;, &quot;properties&quot;: {&quot;Code_Ligne&quot;: &quot;093t&quot;, &quot;Variante&quot;: 2, &quot;alpha_fr&quot;: &quot;Marie-Christine&quot;, &quot;alpha_nl&quot;: &quot;Maria-Christina&quot;, &quot;coord_x&quot;: 149336.0, &quot;coord_y&quot;: 173739.0, &quot;descr_fr&quot;: &quot;MARIE-CHRISTINE&quot;, &quot;descr_nl&quot;: &quot;MARIA-CHRISTINA&quot;, &quot;mode&quot;: &quot;T&quot;, &quot;numero_lig&quot;: 93, &quot;stop_id&quot;: &quot;2879F&quot;, &quot;succession&quot;: 21, &quot;terminus&quot;: &quot;STADE&quot;}, &quot;type&quot;: &quot;Feature&quot;}, {&quot;bbox&quot;: [4.354657859217032, 50.876997711961636, 4.354657859217032, 50.876997711961636], &quot;geometry&quot;: {&quot;coordinates&quot;: [4.354657859217032, 50.876997711961636], &quot;type&quot;: &quot;Point&quot;}, &quot;id&quot;: &quot;4107&quot;, &quot;properties&quot;: {&quot;Code_Ligne&quot;: &quot;093t&quot;, &quot;Variante&quot;: 2, &quot;alpha_fr&quot;: &quot;Princesse Cl\\u00e9mentine&quot;, &quot;alpha_nl&quot;: &quot;Prinses Clementina&quot;, &quot;coord_x&quot;: 149008.0, &quot;coord_y&quot;: 174070.0, &quot;descr_fr&quot;: &quot;PRINC. CLEMENTINE&quot;, &quot;descr_nl&quot;: &quot;PRINS. CLEMENTINA&quot;, &quot;mode&quot;: &quot;T&quot;, &quot;numero_lig&quot;: 93, &quot;stop_id&quot;: &quot;6174F&quot;, &quot;succession&quot;: 22, &quot;terminus&quot;: &quot;STADE&quot;}, &quot;type&quot;: &quot;Feature&quot;}, {&quot;bbox&quot;: [4.3503098635648065, 50.87751852201116, 4.3503098635648065, 50.87751852201116], &quot;geometry&quot;: {&quot;coordinates&quot;: [4.3503098635648065, 50.87751852201116], &quot;type&quot;: &quot;Point&quot;}, &quot;id&quot;: &quot;4108&quot;, &quot;properties&quot;: {&quot;Code_Ligne&quot;: &quot;093t&quot;, &quot;Variante&quot;: 2, &quot;alpha_fr&quot;: &quot;Moorslede&quot;, &quot;alpha_nl&quot;: &quot;Moorslede&quot;, &quot;coord_x&quot;: 148702.0, &quot;coord_y&quot;: 174128.0, &quot;descr_fr&quot;: &quot;MOORSLEDE&quot;, &quot;descr_nl&quot;: &quot;MOORSLEDE&quot;, &quot;mode&quot;: &quot;T&quot;, &quot;numero_lig&quot;: 93, &quot;stop_id&quot;: &quot;6171&quot;, &quot;succession&quot;: 23, &quot;terminus&quot;: &quot;STADE&quot;}, &quot;type&quot;: &quot;Feature&quot;}, {&quot;bbox&quot;: [4.347198153333786, 50.87755396780108, 4.347198153333786, 50.87755396780108], &quot;geometry&quot;: {&quot;coordinates&quot;: [4.347198153333786, 50.87755396780108], &quot;type&quot;: &quot;Point&quot;}, &quot;id&quot;: &quot;4109&quot;, &quot;properties&quot;: {&quot;Code_Ligne&quot;: &quot;093t&quot;, &quot;Variante&quot;: 2, &quot;alpha_fr&quot;: &quot;Bockstael&quot;, &quot;alpha_nl&quot;: &quot;Bockstael&quot;, &quot;coord_x&quot;: 148483.0, &quot;coord_y&quot;: 174132.0, &quot;descr_fr&quot;: &quot;BOCKSTAEL&quot;, &quot;descr_nl&quot;: &quot;BOCKSTAEL&quot;, &quot;mode&quot;: &quot;T&quot;, &quot;numero_lig&quot;: 93, &quot;stop_id&quot;: &quot;4118F&quot;, &quot;succession&quot;: 24, &quot;terminus&quot;: &quot;STADE&quot;}, &quot;type&quot;: &quot;Feature&quot;}, {&quot;bbox&quot;: [4.3429348196251345, 50.878928515605125, 4.3429348196251345, 50.878928515605125], &quot;geometry&quot;: {&quot;coordinates&quot;: [4.3429348196251345, 50.878928515605125], &quot;type&quot;: &quot;Point&quot;}, &quot;id&quot;: &quot;4110&quot;, &quot;properties&quot;: {&quot;Code_Ligne&quot;: &quot;093t&quot;, &quot;Variante&quot;: 2, &quot;alpha_fr&quot;: &quot;Jacobs Fontaine&quot;, &quot;alpha_nl&quot;: &quot;Jacobs Fontaine&quot;, &quot;coord_x&quot;: 148183.0, &quot;coord_y&quot;: 174285.0, &quot;descr_fr&quot;: &quot;JACOBS FONTAINE&quot;, &quot;descr_nl&quot;: &quot;JACOBS FONTAINE&quot;, &quot;mode&quot;: &quot;T&quot;, &quot;numero_lig&quot;: 93, &quot;stop_id&quot;: &quot;6172&quot;, &quot;succession&quot;: 25, &quot;terminus&quot;: &quot;STADE&quot;}, &quot;type&quot;: &quot;Feature&quot;}, {&quot;bbox&quot;: [4.338117874268292, 50.87903525862064, 4.338117874268292, 50.87903525862064], &quot;geometry&quot;: {&quot;coordinates&quot;: [4.338117874268292, 50.87903525862064], &quot;type&quot;: &quot;Point&quot;}, &quot;id&quot;: &quot;4111&quot;, &quot;properties&quot;: {&quot;Code_Ligne&quot;: &quot;093t&quot;, &quot;Variante&quot;: 2, &quot;alpha_fr&quot;: &quot;Foyer Jettois&quot;, &quot;alpha_nl&quot;: &quot;Jetse Haard&quot;, &quot;coord_x&quot;: 147844.0, &quot;coord_y&quot;: 174297.0, &quot;descr_fr&quot;: &quot;FOYER JETTOIS&quot;, &quot;descr_nl&quot;: &quot;JETSE HAARD&quot;, &quot;mode&quot;: &quot;T&quot;, &quot;numero_lig&quot;: 93, &quot;stop_id&quot;: &quot;6552&quot;, &quot;succession&quot;: 26, &quot;terminus&quot;: &quot;STADE&quot;}, &quot;type&quot;: &quot;Feature&quot;}, {&quot;bbox&quot;: [4.334721750828421, 50.879241099897776, 4.334721750828421, 50.879241099897776], &quot;geometry&quot;: {&quot;coordinates&quot;: [4.334721750828421, 50.879241099897776], &quot;type&quot;: &quot;Point&quot;}, &quot;id&quot;: &quot;4112&quot;, &quot;properties&quot;: {&quot;Code_Ligne&quot;: &quot;093t&quot;, &quot;Variante&quot;: 2, &quot;alpha_fr&quot;: &quot;Cimeti\\u00e8re de Jette&quot;, &quot;alpha_nl&quot;: &quot;Kerkhof van Jette&quot;, &quot;coord_x&quot;: 147605.0, &quot;coord_y&quot;: 174320.0, &quot;descr_fr&quot;: &quot;CIM. DE JETTE&quot;, &quot;descr_nl&quot;: &quot;KERKH. VAN JETTE&quot;, &quot;mode&quot;: &quot;T&quot;, &quot;numero_lig&quot;: 93, &quot;stop_id&quot;: &quot;6553&quot;, &quot;succession&quot;: 27, &quot;terminus&quot;: &quot;STADE&quot;}, &quot;type&quot;: &quot;Feature&quot;}, {&quot;bbox&quot;: [4.335614599996447, 50.882612384854596, 4.335614599996447, 50.882612384854596], &quot;geometry&quot;: {&quot;coordinates&quot;: [4.335614599996447, 50.882612384854596], &quot;type&quot;: &quot;Point&quot;}, &quot;id&quot;: &quot;4113&quot;, &quot;properties&quot;: {&quot;Code_Ligne&quot;: &quot;093t&quot;, &quot;Variante&quot;: 2, &quot;alpha_fr&quot;: &quot;Guillaume De Greef&quot;, &quot;alpha_nl&quot;: &quot;Guillaume De Greef&quot;, &quot;coord_x&quot;: 147668.0, &quot;coord_y&quot;: 174695.0, &quot;descr_fr&quot;: &quot;GUILL. DE GREEF&quot;, &quot;descr_nl&quot;: &quot;GUILL. DE GREEF&quot;, &quot;mode&quot;: &quot;T&quot;, &quot;numero_lig&quot;: 93, &quot;stop_id&quot;: &quot;5081F&quot;, &quot;succession&quot;: 28, &quot;terminus&quot;: &quot;STADE&quot;}, &quot;type&quot;: &quot;Feature&quot;}, {&quot;bbox&quot;: [4.33396360115625, 50.886216673026716, 4.33396360115625, 50.886216673026716], &quot;geometry&quot;: {&quot;coordinates&quot;: [4.33396360115625, 50.886216673026716], &quot;type&quot;: &quot;Point&quot;}, &quot;id&quot;: &quot;4114&quot;, &quot;properties&quot;: {&quot;Code_Ligne&quot;: &quot;093t&quot;, &quot;Variante&quot;: 2, &quot;alpha_fr&quot;: &quot;H\\u00f4pital Brugmann&quot;, &quot;alpha_nl&quot;: &quot;Brugmann-ziekenhuis&quot;, &quot;coord_x&quot;: 147552.0, &quot;coord_y&quot;: 175096.0, &quot;descr_fr&quot;: &quot;HOPITAL BRUGMANN&quot;, &quot;descr_nl&quot;: &quot;BRUGMANN-ZIEKENH.&quot;, &quot;mode&quot;: &quot;T&quot;, &quot;numero_lig&quot;: 93, &quot;stop_id&quot;: &quot;5471&quot;, &quot;succession&quot;: 29, &quot;terminus&quot;: &quot;STADE&quot;}, &quot;type&quot;: &quot;Feature&quot;}, {&quot;bbox&quot;: [4.334089330924301, 50.889219171872284, 4.334089330924301, 50.889219171872284], &quot;geometry&quot;: {&quot;coordinates&quot;: [4.334089330924301, 50.889219171872284], &quot;type&quot;: &quot;Point&quot;}, &quot;id&quot;: &quot;4115&quot;, &quot;properties&quot;: {&quot;Code_Ligne&quot;: &quot;093t&quot;, &quot;Variante&quot;: 2, &quot;alpha_fr&quot;: &quot;Polyclinique Brugmann&quot;, &quot;alpha_nl&quot;: &quot;Polikliniek Brugmann&quot;, &quot;coord_x&quot;: 147561.0, &quot;coord_y&quot;: 175430.0, &quot;descr_fr&quot;: &quot;POLYCL. BRUGMANN&quot;, &quot;descr_nl&quot;: &quot;POLIKL. BRUGMANN&quot;, &quot;mode&quot;: &quot;T&quot;, &quot;numero_lig&quot;: 93, &quot;stop_id&quot;: &quot;5398F&quot;, &quot;succession&quot;: 30, &quot;terminus&quot;: &quot;STADE&quot;}, &quot;type&quot;: &quot;Feature&quot;}, {&quot;bbox&quot;: [4.330307551956182, 50.89088105596646, 4.330307551956182, 50.89088105596646], &quot;geometry&quot;: {&quot;coordinates&quot;: [4.330307551956182, 50.89088105596646], &quot;type&quot;: &quot;Point&quot;}, &quot;id&quot;: &quot;4116&quot;, &quot;properties&quot;: {&quot;Code_Ligne&quot;: &quot;093t&quot;, &quot;Variante&quot;: 2, &quot;alpha_fr&quot;: &quot;Sti\\u00e9non&quot;, &quot;alpha_nl&quot;: &quot;Sti\\u00e9non&quot;, &quot;coord_x&quot;: 147295.0, &quot;coord_y&quot;: 175615.0, &quot;descr_fr&quot;: &quot;STIENON&quot;, &quot;descr_nl&quot;: &quot;STIENON&quot;, &quot;mode&quot;: &quot;T&quot;, &quot;numero_lig&quot;: 93, &quot;stop_id&quot;: &quot;5472&quot;, &quot;succession&quot;: 31, &quot;terminus&quot;: &quot;STADE&quot;}, &quot;type&quot;: &quot;Feature&quot;}, {&quot;bbox&quot;: [4.33192552304702, 50.89383907656143, 4.33192552304702, 50.89383907656143], &quot;geometry&quot;: {&quot;coordinates&quot;: [4.33192552304702, 50.89383907656143], &quot;type&quot;: &quot;Point&quot;}, &quot;id&quot;: &quot;4117&quot;, &quot;properties&quot;: {&quot;Code_Ligne&quot;: &quot;093t&quot;, &quot;Variante&quot;: 2, &quot;alpha_fr&quot;: &quot;Stade&quot;, &quot;alpha_nl&quot;: &quot;Stadion&quot;, &quot;coord_x&quot;: 147409.0, &quot;coord_y&quot;: 175944.0, &quot;descr_fr&quot;: &quot;STADE&quot;, &quot;descr_nl&quot;: &quot;STADION&quot;, &quot;mode&quot;: &quot;T&quot;, &quot;numero_lig&quot;: 93, &quot;stop_id&quot;: &quot;5474&quot;, &quot;succession&quot;: 32, &quot;terminus&quot;: &quot;STADE&quot;}, &quot;type&quot;: &quot;Feature&quot;}], &quot;type&quot;: &quot;FeatureCollection&quot;});\n",
       "\n",
       "        \n",
       "    \n",
       "    geo_json_8fda546772e356ec0c790dfc2556db11.bindPopup(\n",
       "    function(layer){\n",
       "    let div = L.DomUtil.create(&#x27;div&#x27;);\n",
       "    \n",
       "    let handleObject = feature=&gt;typeof(feature)==&#x27;object&#x27; ? JSON.stringify(feature) : feature;\n",
       "    let fields = [&quot;Code_Ligne&quot;, &quot;Variante&quot;, &quot;succession&quot;, &quot;stop_id&quot;, &quot;descr_fr&quot;, &quot;descr_nl&quot;, &quot;alpha_fr&quot;, &quot;alpha_nl&quot;, &quot;coord_x&quot;, &quot;coord_y&quot;, &quot;mode&quot;, &quot;numero_lig&quot;, &quot;terminus&quot;];\n",
       "    let aliases = [&quot;Code_Ligne&quot;, &quot;Variante&quot;, &quot;succession&quot;, &quot;stop_id&quot;, &quot;descr_fr&quot;, &quot;descr_nl&quot;, &quot;alpha_fr&quot;, &quot;alpha_nl&quot;, &quot;coord_x&quot;, &quot;coord_y&quot;, &quot;mode&quot;, &quot;numero_lig&quot;, &quot;terminus&quot;];\n",
       "    let table = &#x27;&lt;table&gt;&#x27; +\n",
       "        String(\n",
       "        fields.map(\n",
       "        (v,i)=&gt;\n",
       "        `&lt;tr&gt;\n",
       "            &lt;th&gt;${aliases[i].toLocaleString()}&lt;/th&gt;\n",
       "            \n",
       "            &lt;td&gt;${handleObject(layer.feature.properties[v]).toLocaleString()}&lt;/td&gt;\n",
       "        &lt;/tr&gt;`).join(&#x27;&#x27;))\n",
       "    +&#x27;&lt;/table&gt;&#x27;;\n",
       "    div.innerHTML=table;\n",
       "    \n",
       "    return div\n",
       "    }\n",
       "    ,{&quot;className&quot;: &quot;foliumpopup&quot;});\n",
       "                     \n",
       "    \n",
       "        function geo_json_d172517f79bf7c5618a151a961eb99ad_styler(feature) {\n",
       "            switch(feature.id) {\n",
       "                case &quot;144&quot;: \n",
       "                    return {&quot;color&quot;: &quot;purple&quot;, &quot;opacity&quot;: 1, &quot;weight&quot;: 4};\n",
       "                default:\n",
       "                    return {&quot;color&quot;: &quot;red&quot;, &quot;opacity&quot;: 1, &quot;weight&quot;: 4};\n",
       "            }\n",
       "        }\n",
       "\n",
       "        function geo_json_d172517f79bf7c5618a151a961eb99ad_onEachFeature(feature, layer) {\n",
       "            layer.on({\n",
       "            });\n",
       "        };\n",
       "        var geo_json_d172517f79bf7c5618a151a961eb99ad = L.geoJson(null, {\n",
       "                onEachFeature: geo_json_d172517f79bf7c5618a151a961eb99ad_onEachFeature,\n",
       "            \n",
       "                style: geo_json_d172517f79bf7c5618a151a961eb99ad_styler,\n",
       "        });\n",
       "\n",
       "        function geo_json_d172517f79bf7c5618a151a961eb99ad_add (data) {\n",
       "            geo_json_d172517f79bf7c5618a151a961eb99ad\n",
       "                .addData(data)\n",
       "                .addTo(map_ddc8a383a05bc625a83d75e924e56d2a);\n",
       "        }\n",
       "            geo_json_d172517f79bf7c5618a151a961eb99ad_add({&quot;bbox&quot;: [4.329794946604043, 50.81596501906811, 4.3719062326032425, 50.89383187931132], &quot;features&quot;: [{&quot;bbox&quot;: [4.329794946604043, 50.81596501906811, 4.3719062326032425, 50.89342651975488], &quot;geometry&quot;: {&quot;coordinates&quot;: [[4.332114873344947, 50.89342651975488, 0.0], [4.332126245490156, 50.893424725357654, 0.0], [4.332217226050813, 50.89340587544468, 0.0], [4.332311054703331, 50.893379834813516, 0.0], [4.332373610268599, 50.893358279301566, 0.0], [4.332439011872957, 50.893332229922905, 0.0], [4.332517214332905, 50.893294498171954, 0.0], [4.332603956252242, 50.8932414869783, 0.0], [4.3326622644199055, 50.893197456543646, 0.0], [4.333167134427923, 50.892801175390446, 0.0], [4.333211222924801, 50.89276433196657, 0.0], [4.333248206726636, 50.89272478960056, 0.0], [4.333262436629593, 50.892702320331104, 0.0], [4.333275259179158, 50.892660972912324, 0.0], [4.333275273162974, 50.89264209518595, 0.0], [4.333271028509036, 50.89261602468096, 0.0], [4.333261097910125, 50.892590851429865, 0.0], [4.333238380773579, 50.89255848286898, 0.0], [4.333217075649182, 50.89253869987663, 0.0], [4.333192926570445, 50.892520713914806, 0.0], [4.333144620447621, 50.892495529248706, 0.0], [4.333074995287677, 50.89246943927136, 0.0], [4.3323588468799565, 50.892212126923845, 0.0], [4.331733643894144, 50.89198809913459, 0.0], [4.331548931864934, 50.89191432877123, 0.0], [4.331426743509738, 50.89185855643898, 0.0], [4.331310241336413, 50.89180188681904, 0.0], [4.331195165679342, 50.89173892495182, 0.0], [4.331040318925129, 50.891644487541384, 0.0], [4.3309352008652935, 50.89157164021773, 0.0], [4.330798839764544, 50.89146731998989, 0.0], [4.330669595708668, 50.89135041670879, 0.0], [4.330557406935756, 50.891234417671086, 0.0], [4.330379912136954, 50.89102850357979, 0.0], [4.330053332787395, 50.89064095513814, 0.0], [4.32988436559073, 50.890440436662196, 0.0], [4.329836090454498, 50.89038198984235, 0.0], [4.329806282930498, 50.890334336303404, 0.0], [4.329794946604043, 50.89029298136018, 0.0], [4.329796401548168, 50.89025163058551, 0.0], [4.329809222086925, 50.89021567715567, 0.0], [4.329827723206564, 50.89018511921566, 0.0], [4.329854749590778, 50.89015726086813, 0.0], [4.329876082917337, 50.89013928900495, 0.0], [4.329913054316176, 50.89011592857935, 0.0], [4.329972767789327, 50.89008987870241, 0.0], [4.330038161079088, 50.89007012321651, 0.0], [4.330120609241429, 50.89005037320751, 0.0], [4.334397814864416, 50.88909969986404, 0.0], [4.334670732291658, 50.88903775091938, 0.0], [4.334747489929289, 50.88902069285864, 0.0], [4.334851257538162, 50.88899375404675, 0.0], [4.334939393606364, 50.888964113911925, 0.0], [4.335000522771821, 50.888939859750536, 0.0], [4.33501758298914, 50.888931774089556, 0.0], [4.33503606377849, 50.88892458776625, 0.0], [4.335097197259268, 50.88889404097187, 0.0], [4.33516117748499, 50.88885720235959, 0.0], [4.335202410754114, 50.8888311446334, 0.0], [4.335253600585554, 50.88879340344859, 0.0], [4.3353133263394295, 50.888743079454834, 0.0], [4.3353631035447195, 50.8886927526592, 0.0], [4.335401509781679, 50.88864422055982, 0.0], [4.335425693319831, 50.88861096648399, 0.0], [4.33545272858501, 50.88856422908602, 0.0], [4.335475502698427, 50.88851389473587, 0.0], [4.3355011328661135, 50.88844378447887, 0.0], [4.335519651385074, 50.88838176270949, 0.0], [4.335535337433021, 50.888305357100506, 0.0], [4.335545341786163, 50.88822445521056, 0.0], [4.335548246396632, 50.88813456194444, 0.0], [4.335544030141475, 50.888066241281244, 0.0], [4.335528468728922, 50.88796285878318, 0.0], [4.335504370347797, 50.88787385696512, 0.0], [4.335487351748799, 50.887822612618464, 0.0], [4.335457558837097, 50.88774799225987, 0.0], [4.335417825937924, 50.88766168289731, 0.0], [4.33536815063289, 50.88756728028262, 0.0], [4.335315629434938, 50.88747827049575, 0.0], [4.3352460645236475, 50.88737487286486, 0.0], [4.335227606372247, 50.88735059629838, 0.0], [4.335145252671303, 50.887245397143964, 0.0], [4.33505436987636, 50.887143791294385, 0.0], [4.334970581205653, 50.88705926725051, 0.0], [4.334896729467102, 50.886990926891066, 0.0], [4.334773167024285, 50.886881221108716, 0.0], [4.334558701909391, 50.88670137187771, 0.0], [4.3345004678203924, 50.88665550924591, 0.0], [4.334388260176616, 50.88656827982161, 0.0], [4.334307299852123, 50.88650622962968, 0.0], [4.334293095594103, 50.88649633719158, 0.0], [4.334237701051823, 50.8864549699492, 0.0], [4.334223496823965, 50.88644507750249, 0.0], [4.334192248062411, 50.88642259496084, 0.0], [4.334089979065151, 50.886349751171615, 0.0], [4.333982024561284, 50.886278703523494, 0.0], [4.333963558357159, 50.88626701192495, 0.0], [4.333854180488402, 50.88619955950889, 0.0], [4.333743379181068, 50.886135702338365, 0.0], [4.333710705785451, 50.88611861289738, 0.0], [4.33369507998779, 50.88610961891095, 0.0], [4.333648201313375, 50.88608443482118, 0.0], [4.333534553687617, 50.88602686920568, 0.0], [4.333457840240656, 50.885989990022885, 0.0], [4.3333811242590565, 50.88595670655399, 0.0], [4.333288778072459, 50.885920721581364, 0.0], [4.333207794967086, 50.885892830382126, 0.0], [4.333123967717163, 50.885867635104226, 0.0], [4.333035875866446, 50.885844236376464, 0.0], [4.332996091980725, 50.88583433614367, 0.0], [4.332956310127597, 50.885821739074004, 0.0], [4.332935000110102, 50.88581274328541, 0.0], [4.3329136907734895, 50.88580284855175, 0.0], [4.33288386216102, 50.885783062906604, 0.0], [4.33285829961168, 50.885759682767805, 0.0], [4.332834166292064, 50.88572551575591, 0.0], [4.332824238733067, 50.88569854453513, 0.0], [4.332821421464455, 50.88566528285856, 0.0], [4.332828551297527, 50.88563292310919, 0.0], [4.332845627538113, 50.88560236422638, 0.0], [4.332862696345956, 50.885581693694, 0.0], [4.332893980258874, 50.88555563377042, 0.0], [4.3329323663111845, 50.88553407067113, 0.0], [4.332965061856032, 50.88552059633057, 0.0], [4.333024761088299, 50.88550353427869, 0.0], [4.333134205668742, 50.885477497595026, 0.0], [4.333189641469489, 50.885460434190406, 0.0], [4.333243660790142, 50.885437077749394, 0.0], [4.333286312558686, 50.88541192003317, 0.0], [4.333333237560527, 50.88537327944396, 0.0], [4.333371637869041, 50.88533193949213, 0.0], [4.335452304884034, 50.88303394192365, 0.0], [4.335521991487009, 50.88295305647883, 0.0], [4.335556126672897, 50.88290901777582, 0.0], [4.335581735013594, 50.882865875645116, 0.0], [4.33560024252934, 50.88281643894996, 0.0], [4.335605956445276, 50.88277329130897, 0.0], [4.335604568965146, 50.88272474805087, 0.0], [4.33558614664006, 50.88265102969999, 0.0], [4.3355833083292605, 50.882645635261746, 0.0], [4.335552114952173, 50.882545844046305, 0.0], [4.3355337052301195, 50.88245414684291, 0.0], [4.335523807948655, 50.882382228723195, 0.0], [4.335519591622683, 50.882314806887514, 0.0], [4.335519660753383, 50.882215024317496, 0.0], [4.3355225202041225, 50.88218985472696, 0.0], [4.335529681892159, 50.88210805296517, 0.0], [4.335548235832779, 50.88199119560731, 0.0], [4.335699400690383, 50.881209157483184, 0.0], [4.335712251388924, 50.88111926677297, 0.0], [4.335715137288592, 50.8810554426474, 0.0], [4.335713753460801, 50.88100150571215, 0.0], [4.335702435241692, 50.88092958718571, 0.0], [4.335688262734362, 50.88087564672154, 0.0], [4.335666991015237, 50.88081361381196, 0.0], [4.335640031158288, 50.88075787192471, 0.0], [4.335600291411922, 50.88068954129927, 0.0], [4.335559123358265, 50.88063199757543, 0.0], [4.335510849372999, 50.880576249750995, 0.0], [4.335465410551667, 50.880530391062855, 0.0], [4.33540860855664, 50.88047823659672, 0.0], [4.335299261528879, 50.8803829181952, 0.0], [4.335287902070371, 50.88037122876813, 0.0], [4.335195596223404, 50.88029119705133, 0.0], [4.335043647594581, 50.88015900981443, 0.0], [4.33503228825383, 50.880147320361836, 0.0], [4.334739754177636, 50.879892836849976, 0.0], [4.33437479650703, 50.879581698418924, 0.0], [4.334339297203143, 50.87954842733503, 0.0], [4.33432084001278, 50.879527746342205, 0.0], [4.334306646259764, 50.87950616762967, 0.0], [4.334291040643368, 50.87947200330741, 0.0], [4.334285391205689, 50.87942435770369, 0.0], [4.334295368680478, 50.879381211311106, 0.0], [4.334305329986977, 50.8793605384876, 0.0], [4.334318132478813, 50.879340765423095, 0.0], [4.33434088526755, 50.879315601558325, 0.0], [4.33436932041621, 50.87929223720641, 0.0], [4.334389222941363, 50.87927875877297, 0.0], [4.334431866574168, 50.87925629742442, 0.0], [4.334494402358365, 50.87923474069437, 0.0], [4.334537036277478, 50.87922576345014, 0.0], [4.334598142091376, 50.87921679145875, 0.0], [4.335072766627044, 50.87916209030284, 0.0], [4.335813122377095, 50.87907599753774, 0.0], [4.335958064615925, 50.87906255312918, 0.0], [4.336108686136097, 50.87905540268947, 0.0], [4.338515752437925, 50.87898861262389, 0.0], [4.339527456842397, 50.87896099572588, 0.0], [4.339588556999448, 50.8789592126792, 0.0], [4.339682338589026, 50.8789565385649, 0.0], [4.340122828751163, 50.878942261164696, 0.0], [4.340542002399023, 50.87893247183015, 0.0], [4.342257054286536, 50.878903196335116, 0.0], [4.342437511413353, 50.87889964010195, 0.0], [4.344681144153618, 50.87885785819935, 0.0], [4.3449909046339945, 50.87885162689952, 0.0], [4.345056268037336, 50.87884804395819, 0.0], [4.345118791377016, 50.87884086465293, 0.0], [4.345172791021204, 50.87883008787994, 0.0], [4.34521542428074, 50.87881751098376, 0.0], [4.345255217455491, 50.87880133774777, 0.0], [4.345295013652767, 50.878778871897104, 0.0], [4.345330548844776, 50.878752809435134, 0.0], [4.3454243682510505, 50.878670124802355, 0.0], [4.345690175407475, 50.87846251990366, 0.0], [4.346162081784436, 50.878098536904815, 0.0], [4.346717842491963, 50.877668045442704, 0.0], [4.346730635215736, 50.87765726044803, 0.0], [4.346769012129389, 50.87762760228537, 0.0], [4.346825864740542, 50.87758805907719, 0.0], [4.346852869737982, 50.87756918614912, 0.0], [4.34690118891723, 50.877547620229635, 0.0], [4.346962293819899, 50.87753055130663, 0.0], [4.347043290383306, 50.877514384859445, 0.0], [4.347139911193816, 50.87750990740728, 0.0], [4.347625832451728, 50.87754325393575, 0.0], [4.3477863860088934, 50.87755317016146, 0.0], [4.347793489951076, 50.877554070332, 0.0], [4.347838956503327, 50.87755677500582, 0.0], [4.347905737210888, 50.877556786494424, 0.0], [4.347945523002149, 50.87755319754724, 0.0], [4.347988153592209, 50.877542417525945, 0.0], [4.348047837610962, 50.87752444885135, 0.0], [4.348101841563481, 50.877498388689595, 0.0], [4.348157270509523, 50.87746244036678, 0.0], [4.348344876530526, 50.87733841784054, 0.0], [4.348369037171892, 50.877324038801824, 0.0], [4.3483960391394705, 50.87731055917772, 0.0], [4.348451461259207, 50.87728989275207, 0.0], [4.348482723508338, 50.877281807480585, 0.0], [4.348515405856294, 50.877275520324254, 0.0], [4.3485765057167995, 50.87726833893709, 0.0], [4.348640444299769, 50.87726834953577, 0.0], [4.348781102540987, 50.87728455371178, 0.0], [4.3506011346336155, 50.87751856391133, 0.0], [4.351034478249483, 50.87757436207667, 0.0], [4.351096993460915, 50.87758246162099, 0.0], [4.35120355493056, 50.87759236535427, 0.0], [4.351314381611668, 50.87759507805241, 0.0], [4.351386847758219, 50.87758969471107, 0.0], [4.351490575815713, 50.87757622525296, 0.0], [4.352381514767395, 50.87741004314532, 0.0], [4.3530578857107844, 50.87728248159957, 0.0], [4.353795352978577, 50.87714413627293, 0.0], [4.354313993243514, 50.877046213334545, 0.0], [4.354511503679162, 50.877003985960776, 0.0], [4.354701910797194, 50.876957262728, 0.0], [4.355358388284717, 50.876788334237936, 0.0], [4.356313256549571, 50.87654122422435, 0.0], [4.356762269091562, 50.876422607754975, 0.0], [4.356824789133646, 50.87640823065945, 0.0], [4.356917146588104, 50.876393856368054, 0.0], [4.356944142802253, 50.8763920610414, 0.0], [4.3570436013889156, 50.876390272534536, 0.0], [4.357282297675314, 50.87640467780241, 0.0], [4.357380335035711, 50.87640468676702, 0.0], [4.357417277464626, 50.876401094349085, 0.0], [4.357452799665847, 50.876394804960064, 0.0], [4.357502531782346, 50.8763813252903, 0.0], [4.357553686711351, 50.87635885628997, 0.0], [4.357575001769133, 50.876347171928714, 0.0], [4.3576076868511295, 50.87632020653408, 0.0], [4.357634688783302, 50.8762923416816, 0.0], [4.357717121547908, 50.876179981011894, 0.0], [4.357803818148362, 50.876059530159644, 0.0], [4.358177604314342, 50.87553547798306, 0.0], [4.359398393322942, 50.873814096468315, 0.0], [4.35945950117447, 50.873729600194814, 0.0], [4.359628612109744, 50.87349768481693, 0.0], [4.359782088363574, 50.873293635356795, 0.0], [4.360482670199222, 50.872312035196, 0.0], [4.36053382892407, 50.87222933557354, 0.0], [4.360556566811373, 50.8721879855715, 0.0], [4.360592097270909, 50.87210708280958, 0.0], [4.360623367077062, 50.87201629137221, 0.0], [4.360640425259398, 50.87195426526043, 0.0], [4.360658905508078, 50.87188324978648, 0.0], [4.36069159544605, 50.871794256304455, 0.0], [4.360714334389946, 50.87174391681808, 0.0], [4.360761229465935, 50.871664812595654, 0.0], [4.360785387148925, 50.871626159465684, 0.0], [4.360867806944962, 50.87149581753477, 0.0], [4.360954487232511, 50.87137266735906, 0.0], [4.361018430463362, 50.87128817038707, 0.0], [4.361115054948875, 50.87116322279198, 0.0], [4.361193207462933, 50.87105715187911, 0.0], [4.3612429410768305, 50.87098703706559, 0.0], [4.361393561816656, 50.870775793625796, 0.0], [4.362270260994029, 50.869548779875785, 0.0], [4.362537382388433, 50.86917393249268, 0.0], [4.362541644965808, 50.86916764007459, 0.0], [4.363752162419537, 50.86747138016612, 0.0], [4.365114601362527, 50.86554677848045, 0.0], [4.365151536724233, 50.865509922598, 0.0], [4.365181369468982, 50.865473965475786, 0.0], [4.365584821326678, 50.86491213310175, 0.0], [4.3659300206019065, 50.86443390025412, 0.0], [4.365934282254387, 50.8644285066511, 0.0], [4.365935702845688, 50.86442580983664, 0.0], [4.365998207002209, 50.86434580469273, 0.0], [4.366064972300486, 50.86426669853309, 0.0], [4.3663036206366606, 50.86399072568279, 0.0], [4.366400215999945, 50.86386757137121, 0.0], [4.366614713541843, 50.86356732594463, 0.0], [4.366861879498568, 50.86322123414059, 0.0], [4.366957051684285, 50.863085494070205, 0.0], [4.367006768523905, 50.8630036903433, 0.0], [4.3670749517373615, 50.86287244465857, 0.0], [4.367110464058718, 50.862785247079415, 0.0], [4.367141715015262, 50.862697150506875, 0.0], [4.3672937079329746, 50.862189246411276, 0.0], [4.367401663482065, 50.86183146602421, 0.0], [4.36745848148013, 50.8616471821099, 0.0], [4.367536605642052, 50.86138109403362, 0.0], [4.367566434643473, 50.86127861414613, 0.0], [4.367972664218744, 50.85991670938484, 0.0], [4.368170088958025, 50.859248791032975, 0.0], [4.368334842009553, 50.85869324082911, 0.0], [4.368358986483911, 50.858605143846994, 0.0], [4.368367507969207, 50.858562893258984, 0.0], [4.36837318885193, 50.85851974372916, 0.0], [4.36837318856702, 50.858476594213734, 0.0], [4.3683675071359565, 50.858434343660875, 0.0], [4.368344782036789, 50.85835253942559, 0.0], [4.368312115039979, 50.85827163415382, 0.0], [4.368192810619956, 50.85804060462706, 0.0], [4.3680209575042435, 50.85770889273332, 0.0], [4.36724409805314, 50.85621034252177, 0.0], [4.367026813542412, 50.85578963273304, 0.0], [4.366180434970478, 50.854155332688805, 0.0], [4.366106592628921, 50.85401329748294, 0.0], [4.3659205685427365, 50.8536591081637, 0.0], [4.365771467300483, 50.85337503730549, 0.0], [4.365764367196264, 50.85336335082266, 0.0], [4.365724606820945, 50.85329502987162, 0.0], [4.36571608674283, 50.85328064650864, 0.0], [4.365632305864148, 50.85314670131639, 0.0], [4.365557046064529, 50.85301545309055, 0.0], [4.365480367305796, 50.85287072053549, 0.0], [4.3654164694517075, 50.85273677560984, 0.0], [4.36536535198784, 50.85261991098367, 0.0], [4.365301455805983, 50.85246888594062, 0.0], [4.36522619969744, 50.85230977003401, 0.0], [4.364370007077545, 50.85066197084307, 0.0], [4.364325992218678, 50.850576569177846, 0.0], [4.364242222386421, 50.85041475543336, 0.0], [4.3639710390458175, 50.84989335508937, 0.0], [4.3634244315708415, 50.8488388657663, 0.0], [4.362799766983406, 50.84763694215258, 0.0], [4.3624618933066595, 50.84698878279588, 0.0], [4.361877025106059, 50.84586416536382, 0.0], [4.361419938893806, 50.84498496577453, 0.0], [4.361181465752062, 50.84452738561399, 0.0], [4.361116170295353, 50.844402427469454, 0.0], [4.3608095706418695, 50.84381269649272, 0.0], [4.360747116711396, 50.84368863724557, 0.0], [4.360700276268595, 50.8435969412135, 0.0], [4.360581047928788, 50.84335691348118, 0.0], [4.360386591205076, 50.84298743160701, 0.0], [4.3603397468476395, 50.84292809769021, 0.0], [4.360277283570841, 50.842875055382976, 0.0], [4.360149515540743, 50.8427824547573, 0.0], [4.360016069072287, 50.84268805569615, 0.0], [4.359943666717832, 50.842641305190725, 0.0], [4.359911014496508, 50.84262152597666, 0.0], [4.359859905717821, 50.842596351750494, 0.0], [4.359798858332268, 50.8425711768019, 0.0], [4.359662565363567, 50.842522623697114, 0.0], [4.359590160537238, 50.84249295306399, 0.0], [4.359527695093609, 50.84245968730066, 0.0], [4.35927642263479, 50.84228257514307, 0.0], [4.359243771786533, 50.84225830097978, 0.0], [4.359201184923671, 50.84222054177202, 0.0], [4.359152922178174, 50.84216570202288, 0.0], [4.359107502388686, 50.84209378237553, 0.0], [4.359086212339298, 50.842057822653395, 0.0], [4.359057823878118, 50.842019165525066, 0.0], [4.358991105618409, 50.841957132668526, 0.0], [4.358871860286488, 50.841869925000495, 0.0], [4.35819188395248, 50.8413844354008, 0.0], [4.358150716791929, 50.84135476649464, 0.0], [4.3577915704408925, 50.8410985341045, 0.0], [4.357720593695863, 50.84104638861486, 0.0], [4.357655294759818, 50.841000536253965, 0.0], [4.35676099855223, 50.84036219705071, 0.0], [4.356423159811367, 50.84012034569538, 0.0], [4.3556509698234365, 50.839568309413366, 0.0], [4.355047708841495, 50.839137645501786, 0.0], [4.3535857339920705, 50.838093789424306, 0.0], [4.353025091462102, 50.83769188669295, 0.0], [4.352978253883549, 50.83765682149192, 0.0], [4.352937096168952, 50.837618161190775, 0.0], [4.352903037681718, 50.83757680493238, 0.0], [4.352887428988314, 50.83755343012264, 0.0], [4.352876079860823, 50.83752825795545, 0.0], [4.352867570637916, 50.837501288248035, 0.0], [4.352861901025147, 50.837473419954456, 0.0], [4.3528619173009915, 50.83742307855959, 0.0], [4.352876130094601, 50.83737273900356, 0.0], [4.352888915954423, 50.83734487309911, 0.0], [4.352904540809503, 50.837317906513654, 0.0], [4.352942885528268, 50.83727386274015, 0.0], [4.35299684629744, 50.837229820961056, 0.0], [4.35303234495596, 50.83720645272392, 0.0], [4.353199893396368, 50.837111185000865, 0.0], [4.353394418263433, 50.83700333506307, 0.0], [4.353817541986347, 50.83676965928107, 0.0], [4.353973729156233, 50.83667798487532, 0.0], [4.3540816416808825, 50.83660877835623, 0.0], [4.35424351238225, 50.836496428328594, 0.0], [4.354325868248343, 50.83643620810418, 0.0], [4.354473540531689, 50.83632745190473, 0.0], [4.354608436351055, 50.836215997189306, 0.0], [4.3547731548483295, 50.83606409277612, 0.0], [4.354986152443763, 50.835863650009095, 0.0], [4.3551806892339435, 50.83567848703479, 0.0], [4.355564078665087, 50.835312654254565, 0.0], [4.355804049306553, 50.835082547348534, 0.0], [4.3559574026519625, 50.83493333689899, 0.0], [4.357008129309131, 50.83391762236624, 0.0], [4.357222528439027, 50.83371178182655, 0.0], [4.357286422836095, 50.833646164042776, 0.0], [4.357344639930233, 50.833576050931846, 0.0], [4.35737445981503, 50.83353380279413, 0.0], [4.3573971805457825, 50.83349784668414, 0.0], [4.357409961858031, 50.83347357607508, 0.0], [4.357442626369879, 50.83340615745127, 0.0], [4.357451148431236, 50.833384583314725, 0.0], [4.357458249129324, 50.83337109963952, 0.0], [4.357461090420909, 50.83336121139687, 0.0], [4.3575022743761105, 50.833283006070076, 0.0], [4.357536354728281, 50.83323086977147, 0.0], [4.35757753263074, 50.83317873409721, 0.0], [4.357632907472614, 50.83311850908039, 0.0], [4.357764950904545, 50.83299176815536, 0.0], [4.358493307676893, 50.83228794834429, 0.0], [4.358652322249649, 50.83213423994559, 0.0], [4.35866368053478, 50.83212255444411, 0.0], [4.358748866514288, 50.83203985739841, 0.0], [4.358760224752736, 50.832028171887266, 0.0], [4.358951892541106, 50.83183940641751, 0.0], [4.359507012490624, 50.83128209617149, 0.0], [4.359660342013387, 50.831131082814174, 0.0], [4.360533447724816, 50.830283427421946, 0.0], [4.360604430307789, 50.8302160103138, 0.0], [4.360615787644507, 50.83020432461713, 0.0], [4.360722261016306, 50.830103648339, 0.0], [4.360779046526072, 50.830050613517265, 0.0], [4.360790403779558, 50.83003892780313, 0.0], [4.360901135232731, 50.82993465580079, 0.0], [4.360912492427871, 50.82992297007446, 0.0], [4.360947983133039, 50.829889710885546, 0.0], [4.360959340305577, 50.829878025154535, 0.0], [4.361010446905649, 50.82982948465011, 0.0], [4.361021804048119, 50.82981779891288, 0.0], [4.362073726984974, 50.82879754287737, 0.0], [4.3622724656845255, 50.82860517635309, 0.0], [4.363601134437998, 50.827315232836106, 0.0], [4.363626685164861, 50.8272891640821, 0.0], [4.36372746769905, 50.827192979560216, 0.0], [4.363745920910652, 50.82717410216481, 0.0], [4.363811216421254, 50.827111177629206, 0.0], [4.363822572211418, 50.82709949161202, 0.0], [4.364085172019, 50.826844197292864, 0.0], [4.365163930354369, 50.825797843885034, 0.0], [4.3652647066556245, 50.82569986009001, 0.0], [4.365332836995579, 50.82563154101111, 0.0], [4.365551420411734, 50.825413998444034, 0.0], [4.365636582128242, 50.82533129624359, 0.0], [4.365656453222852, 50.82531062065437, 0.0], [4.366387411629858, 50.82460225561299, 0.0], [4.366449861383372, 50.824542925349974, 0.0], [4.366461215897772, 50.82453123906909, 0.0], [4.366702497414718, 50.82430290711851, 0.0], [4.366757849896154, 50.82425076825788, 0.0], [4.366769204263386, 50.824239081946224, 0.0], [4.366804686537541, 50.8242058209332, 0.0], [4.366816040882388, 50.82419413461687, 0.0], [4.36805930749353, 50.822987741102345, 0.0], [4.369201750810639, 50.82187842242188, 0.0], [4.369235810378091, 50.821844261708286, 0.0], [4.36924858270878, 50.82183167617737, 0.0], [4.369380563025589, 50.821700426997566, 0.0], [4.369465711097369, 50.82161142923093, 0.0], [4.369549439673615, 50.82152243141832, 0.0], [4.369783593845772, 50.821264427434535, 0.0], [4.369868739986061, 50.82116554083241, 0.0], [4.369922665322474, 50.821093623390226, 0.0], [4.3699652376276665, 50.82103159463925, 0.0], [4.370014904671592, 50.82094709181561, 0.0], [4.3700574756934465, 50.82086079117479, 0.0], [4.370083017791477, 50.820798762665646, 0.0], [4.370108559470437, 50.82072864353161, 0.0], [4.370152547352942, 50.82059919286102, 0.0], [4.370182345358973, 50.820509296563145, 0.0], [4.370223495092232, 50.82039153235923, 0.0], [4.370754169450847, 50.81892801800423, 0.0], [4.370982604819855, 50.81830053978405, 0.0], [4.371030845129615, 50.818169290676764, 0.0], [4.371066316540221, 50.8180847877009, 0.0], [4.3710975318397045, 50.81801916294586, 0.0], [4.371225232099271, 50.817783632503335, 0.0], [4.371270635540556, 50.81768834168872, 0.0], [4.371310362578474, 50.817593051011386, 0.0], [4.371388395533808, 50.81737999568953, 0.0], [4.371594115244156, 50.816816342714915, 0.0], [4.371771456043471, 50.81633269751585, 0.0], [4.3719062326032425, 50.81596501906811, 0.0]], &quot;type&quot;: &quot;LineString&quot;}, &quot;id&quot;: &quot;144&quot;, &quot;properties&quot;: {&quot;COLOR_HEX&quot;: &quot;purple&quot;, &quot;Date_debut&quot;: &quot;01/09/2021&quot;, &quot;Date_fin&quot;: &quot;06/03/2022&quot;, &quot;LIGNE&quot;: &quot;093t&quot;, &quot;VARIANTE&quot;: 1}, &quot;type&quot;: &quot;Feature&quot;}, {&quot;bbox&quot;: [4.329844687473823, 50.816687788915516, 4.371683504328954, 50.89383187931132], &quot;geometry&quot;: {&quot;coordinates&quot;: [[4.371683504328954, 50.816687788915516, 0.0], [4.371523186485826, 50.8171264855114, 0.0], [4.371352934223388, 50.81759304982434, 0.0], [4.371314626267305, 50.8176874415184, 0.0], [4.371267804222882, 50.8177881261387, 0.0], [4.371192603932489, 50.81793735524519, 0.0], [4.371147200269577, 50.818035342897936, 0.0], [4.371108891540434, 50.818129734513526, 0.0], [4.3704916835447, 50.819832375397674, 0.0], [4.370210732647838, 50.820606383470434, 0.0], [4.370161068400354, 50.82073763217952, 0.0], [4.370112822245966, 50.820850901687045, 0.0], [4.370074508417464, 50.82092821269984, 0.0], [4.370027679854053, 50.82101361445916, 0.0], [4.370007813053867, 50.82104777517594, 0.0], [4.369952469388882, 50.821135873915885, 0.0], [4.369887191609886, 50.82123026548486, 0.0], [4.369868743402206, 50.821254537621954, 0.0], [4.36981197949729, 50.821327354036036, 0.0], [4.369726832944735, 50.82142624059262, 0.0], [4.369672906465974, 50.82148467357721, 0.0], [4.369593435422978, 50.82156468184959, 0.0], [4.369522478781632, 50.821632104557565, 0.0], [4.3695011917633, 50.82165278084005, 0.0], [4.369285481949968, 50.82185055390214, 0.0], [4.369274128784465, 50.82186224046505, 0.0], [4.369146404989521, 50.821980904078075, 0.0], [4.369135051758102, 50.82199259062711, 0.0], [4.369075447079423, 50.822048326507876, 0.0], [4.3690640938140985, 50.82206001304983, 0.0], [4.369028614756583, 50.82209327476598, 0.0], [4.3690172614687715, 50.822104961303246, 0.0], [4.368966171525939, 50.82215350539923, 0.0], [4.368960494876284, 50.82215979814348, 0.0], [4.3669721612213985, 50.824090756146774, 0.0], [4.366973580513963, 50.82408895824645, 0.0], [4.366889842673753, 50.8241707625034, 0.0], [4.366838748291112, 50.824219305645094, 0.0], [4.36682739394583, 50.82423099196354, 0.0], [4.366720946938357, 50.824331673946155, 0.0], [4.36670959253678, 50.82434336025283, 0.0], [4.366515148084441, 50.82452674501042, 0.0], [4.366503793584633, 50.824538431296546, 0.0], [4.366468310846745, 50.82457169221549, 0.0], [4.366456956324342, 50.824583378496946, 0.0], [4.36590057938814, 50.82512184454783, 0.0], [4.365728838011, 50.825288148206205, 0.0], [4.36571748313198, 50.825299834413784, 0.0], [4.365589740743753, 50.82542388777982, 0.0], [4.365521611077815, 50.82549220701182, 0.0], [4.365398125592174, 50.825615361298446, 0.0], [4.365287413961071, 50.82572503140845, 0.0], [4.365186637653081, 50.825823015222326, 0.0], [4.365175282510192, 50.825834701375676, 0.0], [4.363923349902476, 50.82704915367558, 0.0], [4.3639119941496185, 50.82706083970267, 0.0], [4.363774305985691, 50.82719388023913, 0.0], [4.363755852777723, 50.82721275763889, 0.0], [4.363662167588128, 50.8273026497594, 0.0], [4.3636508117091575, 50.82731433576039, 0.0], [4.363337105138122, 50.82761906960063, 0.0], [4.362317885633288, 50.828608774410434, 0.0], [4.361501627469121, 50.82940071143013, 0.0], [4.360997663174458, 50.82988881493468, 0.0], [4.360946556496712, 50.82993735543272, 0.0], [4.360935199306562, 50.82994904116229, 0.0], [4.360875574824839, 50.83000477275313, 0.0], [4.360864217600767, 50.8300164584756, 0.0], [4.36061861954188, 50.83024837360563, 0.0], [4.360607262195229, 50.830260059302454, 0.0], [4.359756873779307, 50.83108434402954, 0.0], [4.359745516016606, 50.83109602964023, 0.0], [4.359583668783633, 50.83125423413483, 0.0], [4.359572310936751, 50.83126591972821, 0.0], [4.35901293280731, 50.83182682577673, 0.0], [4.358798548869234, 50.83203896237991, 0.0], [4.358737498821329, 50.83209918751349, 0.0], [4.358670769921109, 50.832163007978764, 0.0], [4.358659411627966, 50.83217469348079, 0.0], [4.35856996602889, 50.83226098593283, 0.0], [4.358558607686924, 50.832272671424775, 0.0], [4.3582576136, 50.832563009020944, 0.0], [4.3577237658622945, 50.83307806417176, 0.0], [4.357647094541734, 50.833155367478916, 0.0], [4.3576243763628, 50.833181435140794, 0.0], [4.3576073376620705, 50.83320121062279, 0.0], [4.3575618985808395, 50.83326503233466, 0.0], [4.357540598422096, 50.833297392788175, 0.0], [4.357499413306189, 50.83338099185512, 0.0], [4.357466746867427, 50.83345740003994, 0.0], [4.357422724238734, 50.833532908229564, 0.0], [4.3573758648442675, 50.83359762868916, 0.0], [4.357317648797141, 50.833663247043056, 0.0], [4.3572821524699386, 50.83369740405316, 0.0], [4.357267953759512, 50.83371178601765, 0.0], [4.3572594348595395, 50.83371897686845, 0.0], [4.357080532319449, 50.83389155949337, 0.0], [4.355636484148895, 50.8352883901914, 0.0], [4.355480287997038, 50.83544299362593, 0.0], [4.355023056720734, 50.83588343110485, 0.0], [4.354986137192677, 50.83591848619509, 0.0], [4.354903778550369, 50.83599488806097, 0.0], [4.354777399206665, 50.836115333626424, 0.0], [4.354685100777013, 50.83619802688476, 0.0], [4.354594222929107, 50.83627622546281, 0.0], [4.354510445216045, 50.83634633420554, 0.0], [4.3543641917972264, 50.836457787477976, 0.0], [4.354162561846584, 50.83660429320837, 0.0], [4.353729479486673, 50.836917975904, 0.0], [4.353577547473272, 50.837017741086896, 0.0], [4.353525010191411, 50.83705189482239, 0.0], [4.3533049247525275, 50.83718221560076, 0.0], [4.3532538081516625, 50.8372118746242, 0.0], [4.353096199013454, 50.837300851015875, 0.0], [4.35303656223779, 50.8373368015307, 0.0], [4.352996802224309, 50.83736736084918, 0.0], [4.352966979149605, 50.83739971934073, 0.0], [4.352942832624469, 50.83743837123112, 0.0], [4.3529357282818575, 50.8374572483387, 0.0], [4.352930036065686, 50.837499498419184, 0.0], [4.352932867855566, 50.83752287157567, 0.0], [4.35293853954059, 50.837544447191235, 0.0], [4.352947050835108, 50.83756512421905, 0.0], [4.352975431294203, 50.837604681827386, 0.0], [4.353010911539907, 50.83763974557271, 0.0], [4.353098908419646, 50.83770897625194, 0.0], [4.354181881964906, 50.838483108292344, 0.0], [4.355141400729358, 50.83916911922156, 0.0], [4.355680787454473, 50.83955482827081, 0.0], [4.355800021464492, 50.8396402413334, 0.0], [4.3561421122767126, 50.83988389285474, 0.0], [4.357174083321275, 50.84062203348193, 0.0], [4.35849993719378, 50.84156874619078, 0.0], [4.358918713626924, 50.84186813075849, 0.0], [4.359022344461002, 50.84193915603316, 0.0], [4.359056415624718, 50.84195893560741, 0.0], [4.35911888024045, 50.841991302674, 0.0], [4.359201221864122, 50.84202457016311, 0.0], [4.359311958131266, 50.842065031335295, 0.0], [4.359378683277556, 50.842092903818624, 0.0], [4.359432630181478, 50.84212167427638, 0.0], [4.359502191797907, 50.842167525944426, 0.0], [4.359587368572593, 50.84222866088972, 0.0], [4.359632796802966, 50.84225832959065, 0.0], [4.359722232199069, 50.842325757408524, 0.0], [4.359753463380206, 50.84235093028986, 0.0], [4.359788952104844, 50.84238689089053, 0.0], [4.359831536757276, 50.84244083102377, 0.0], [4.359886894762728, 50.842523538504, 0.0], [4.359913865024974, 50.84255859951866, 0.0], [4.359957871026192, 50.84260534808444, 0.0], [4.359983423740357, 50.8426278236533, 0.0], [4.3600430482665535, 50.84267187640455, 0.0], [4.360328397165232, 50.84287415981307, 0.0], [4.360369566147787, 50.842909221655106, 0.0], [4.360388020712643, 50.84292810085945, 0.0], [4.360414991141983, 50.84296585861134, 0.0], [4.360642093347745, 50.843403662865605, 0.0], [4.36083087372951, 50.843777638683164, 0.0], [4.36093733132638, 50.84398080833114, 0.0], [4.3613007127989105, 50.84467931539247, 0.0], [4.3613844624133, 50.84484023254387, 0.0], [4.361996277907958, 50.84601519542737, 0.0], [4.362151010982028, 50.84631275622221, 0.0], [4.362319941698542, 50.84663998287467, 0.0], [4.362345494455069, 50.84668942643986, 0.0], [4.362378145525489, 50.846750556708585, 0.0], [4.362494553787765, 50.84697350218182, 0.0], [4.3625797312083865, 50.847137115297954, 0.0], [4.36291902685393, 50.84779156700724, 0.0], [4.363112103379227, 50.848161044129995, 0.0], [4.3639852437125315, 50.84984301436105, 0.0], [4.364262106079313, 50.85037700016769, 0.0], [4.364423967010414, 50.85068894103583, 0.0], [4.364625586343212, 50.85107639463512, 0.0], [4.36506291275892, 50.85191962173769, 0.0], [4.365284421739929, 50.852346628369126, 0.0], [4.365348318479639, 50.85248416918037, 0.0], [4.365409375165598, 50.852625305686146, 0.0], [4.36547895286928, 50.85276734129228, 0.0], [4.3655556314070445, 50.85291297280206, 0.0], [4.36562379083283, 50.85303613033863, 0.0], [4.365677750834858, 50.85312962220709, 0.0], [4.365757271152616, 50.85326896098116, 0.0], [4.365808391504232, 50.853360654828485, 0.0], [4.365988733418462, 50.853704955810976, 0.0], [4.365991573510647, 50.853709450608385, 0.0], [4.366115116312256, 50.853946775370794, 0.0], [4.36615203742447, 50.85401689402954, 0.0], [4.3662429202485775, 50.85419938219204, 0.0], [4.367208595196163, 50.85606381360851, 0.0], [4.367958466231089, 50.857512921929455, 0.0], [4.3683618250861045, 50.8582932087967, 0.0], [4.368395912450609, 50.858371417205284, 0.0], [4.368411536044851, 50.85843164669355, 0.0], [4.36841863798815, 50.85849816884251, 0.0], [4.36841153703855, 50.85856558998106, 0.0], [4.368401595312014, 50.85860963847277, 0.0], [4.368319219824088, 50.858889211564176, 0.0], [4.368154465892132, 50.85944026697547, 0.0], [4.367984026721483, 50.86001199786699, 0.0], [4.367539445094683, 50.861497957220585, 0.0], [4.3674385936044935, 50.86183416306871, 0.0], [4.367434332191729, 50.861852141993786, 0.0], [4.367405922970333, 50.861951924996994, 0.0], [4.367323535940548, 50.862216215022045, 0.0], [4.367177225352246, 50.86270164551617, 0.0], [4.367148815281175, 50.86279064106738, 0.0], [4.367113303008744, 50.862878737605136, 0.0], [4.3670451198347555, 50.86301268015321, 0.0], [4.366995403031969, 50.86309538284321, 0.0], [4.366775227979909, 50.863408214201485, 0.0], [4.366704203254893, 50.86350529967466, 0.0], [4.3666828957115245, 50.86353676256979, 0.0], [4.366376064923685, 50.86396196044745, 0.0], [4.366275207960747, 50.86408421572419, 0.0], [4.36615304287803, 50.86422265160738, 0.0], [4.36607065194739, 50.86431883754235, 0.0], [4.366035138593435, 50.86435839059137, 0.0], [4.365939961978789, 50.864476150930656, 0.0], [4.365822055156613, 50.86463885809139, 0.0], [4.365586238920445, 50.86496696887467, 0.0], [4.365216881390242, 50.8654838547537, 0.0], [4.365187048501342, 50.86552250872417, 0.0], [4.365150112934704, 50.86556296040346, 0.0], [4.36379904159135, 50.86746419031125, 0.0], [4.362757605568444, 50.868924035790286, 0.0], [4.36275334304209, 50.86893032821662, 0.0], [4.362297250423163, 50.86956855800445, 0.0], [4.3612003039833525, 50.871103897436505, 0.0], [4.361170463825903, 50.87114524715902, 0.0], [4.361126413961153, 50.8712063728247, 0.0], [4.361070996299736, 50.87128277986087, 0.0], [4.361025525094404, 50.87134660223655, 0.0], [4.3610070526307645, 50.87137087264151, 0.0], [4.36092037180113, 50.871498517580754, 0.0], [4.360889109776187, 50.87154436186519, 0.0], [4.3608294266407395, 50.87163784847228, 0.0], [4.360761215775058, 50.87175290919319, 0.0], [4.360721422109777, 50.87184459908598, 0.0], [4.360705787584777, 50.871888646404074, 0.0], [4.360668828583648, 50.87202168791428, 0.0], [4.36065461450879, 50.87206663425759, 0.0], [4.360617662060391, 50.872156526396836, 0.0], [4.360573607232417, 50.8722383275664, 0.0], [4.3605210277157616, 50.87232192605941, 0.0], [4.360097556191615, 50.8729152015483, 0.0], [4.359787762287469, 50.8733448755918, 0.0], [4.3595390733094375, 50.87367387145031, 0.0], [4.359355749242317, 50.87393005713045, 0.0], [4.359294640775581, 50.874015452289356, 0.0], [4.358095161193759, 50.875707169291005, 0.0], [4.358048260659546, 50.87577188925546, 0.0], [4.357754061801785, 50.876185377924934, 0.0], [4.3577000530144, 50.8762644802163, 0.0], [4.357660257913159, 50.87631841331822, 0.0], [4.357628992693968, 50.876349873572195, 0.0], [4.357584940358364, 50.87637953478928, 0.0], [4.357556520530737, 50.87639391534749, 0.0], [4.357526680257489, 50.87640649788387, 0.0], [4.357495419743218, 50.87641638345374, 0.0], [4.3574641598241035, 50.87642357218427, 0.0], [4.3574257959384655, 50.87642986131913, 0.0], [4.357387432859761, 50.87643255466685, 0.0], [4.357326336871658, 50.87643344803716, 0.0], [4.357047857558435, 50.87641724124452, 0.0], [4.356948398914839, 50.87641902975496, 0.0], [4.356900089353886, 50.87642441883199, 0.0], [4.356837570387285, 50.876434301249304, 0.0], [4.356719635019807, 50.87646035927623, 0.0], [4.354656433142692, 50.87699411422691, 0.0], [4.354652170338727, 50.87699501268341, 0.0], [4.354457500987131, 50.87703993745396, 0.0], [4.35425856976423, 50.87708126562583, 0.0], [4.353457162696684, 50.877231292190764, 0.0], [4.3515360378583265, 50.87759241264468, 0.0], [4.35146356918358, 50.87760498762484, 0.0], [4.351391101746027, 50.87761396678688, 0.0], [4.351315793826316, 50.8776193497253, 0.0], [4.351237646084795, 50.877619338548065, 0.0], [4.351160921151931, 50.87761393386344, 0.0], [4.350944959063726, 50.877586934261586, 0.0], [4.350307020680218, 50.877505035632204, 0.0], [4.34897005727702, 50.877332228607365, 0.0], [4.348772567427123, 50.87730882378296, 0.0], [4.348705788923892, 50.87730431807055, 0.0], [4.3486390089466225, 50.87730340809378, 0.0], [4.348577910541478, 50.87730699373976, 0.0], [4.3485324397037415, 50.877315076672915, 0.0], [4.348477020588308, 50.877328551589464, 0.0], [4.348432966815542, 50.87734562415516, 0.0], [4.348386068654634, 50.87736898883156, 0.0], [4.348144457203059, 50.877522667402225, 0.0], [4.3480577683546136, 50.87756040828095, 0.0], [4.34798103427693, 50.87757747510088, 0.0], [4.34793414297802, 50.87758375967179, 0.0], [4.3478758862748705, 50.87758644649605, 0.0], [4.347833260651475, 50.87758554021311, 0.0], [4.347800581486124, 50.87758373668891, 0.0], [4.347199571142685, 50.87754677470812, 0.0], [4.347152683771171, 50.877544069533485, 0.0], [4.347085904687499, 50.87754046184301, 0.0], [4.347010595586702, 50.877547639905735, 0.0], [4.346938123748562, 50.877564706808336, 0.0], [4.346895490061959, 50.8775817790515, 0.0], [4.346852854315031, 50.8776033459957, 0.0], [4.3468201646061155, 50.877624914724926, 0.0], [4.346776101806561, 50.87765996553352, 0.0], [4.346707875564813, 50.877713889741834, 0.0], [4.346680869198566, 50.877735459465605, 0.0], [4.346672341513499, 50.877740851571865, 0.0], [4.346005711267517, 50.87825492374738, 0.0], [4.345593501762527, 50.87857307144512, 0.0], [4.3455011067693645, 50.8786494638872, 0.0], [4.345349004492157, 50.878786073903186, 0.0], [4.3453063638939, 50.878813932879176, 0.0], [4.345259463584774, 50.878835498410346, 0.0], [4.345212566293352, 50.87885077132161, 0.0], [4.345161408007448, 50.878862447610416, 0.0], [4.3450932005827685, 50.878870524769106, 0.0], [4.345026415804164, 50.8788750063951, 0.0], [4.344470836602566, 50.87888478440584, 0.0], [4.342933400641505, 50.87891323147136, 0.0], [4.342636428134457, 50.87891856116886, 0.0], [4.341944438794482, 50.878931893361205, 0.0], [4.340543409614647, 50.87895584468016, 0.0], [4.340263486937726, 50.878962071313, 0.0], [4.339686586109777, 50.87898170999806, 0.0], [4.338592466317154, 50.87901290337462, 0.0], [4.338116452837263, 50.879026267029566, 0.0], [4.3361115102272825, 50.87908147280731, 0.0], [4.335963730448743, 50.87908862402784, 0.0], [4.335747736926676, 50.87911013938945, 0.0], [4.3355317400940105, 50.879136149067875, 0.0], [4.33471464765075, 50.879230308765614, 0.0], [4.33469191106853, 50.87923299913223, 0.0], [4.334564015100822, 50.8792518405015, 0.0], [4.334498641343651, 50.87926800279882, 0.0], [4.3344744799564685, 50.87927608637395, 0.0], [4.334428995775872, 50.879296749037856, 0.0], [4.334387767868966, 50.87932640233545, 0.0], [4.334370704584079, 50.87934347735556, 0.0], [4.334356482482983, 50.87936145213211, 0.0], [4.334343676775324, 50.87938571991479, 0.0], [4.334335133175213, 50.87941088786373, 0.0], [4.334332273257509, 50.879436057445474, 0.0], [4.334335096385712, 50.87946212760325, 0.0], [4.334346443773435, 50.87948999809571, 0.0], [4.334362055240449, 50.87951607192546, 0.0], [4.334383351073601, 50.879541248441235, 0.0], [4.3344586093520245, 50.879612286505825, 0.0], [4.334705701487923, 50.87982270963276, 0.0], [4.334853388439848, 50.87995040140056, 0.0], [4.334993975913127, 50.88007179837785, 0.0], [4.335117522851027, 50.8801788073157, 0.0], [4.335197047361605, 50.88024804820504, 0.0], [4.335360357437651, 50.880390126775985, 0.0], [4.335429941607477, 50.88045127424864, 0.0], [4.335495264338669, 50.8805106226111, 0.0], [4.335552062736134, 50.880568170689926, 0.0], [4.335608853819926, 50.88063650605023, 0.0], [4.335654278619305, 50.88070304035846, 0.0], [4.335695433224662, 50.88078036078183, 0.0], [4.335719547516025, 50.880841495527555, 0.0], [4.335739398349993, 50.88090352803578, 0.0], [4.335752137588883, 50.88097544695038, 0.0], [4.335756362783823, 50.88103028361026, 0.0], [4.335756317651326, 50.881095906404354, 0.0], [4.335750596657153, 50.88114984138188, 0.0], [4.335734902831366, 50.88124152919747, 0.0], [4.33559372026595, 50.88197322935214, 0.0], [4.33558231000044, 50.882034354272385, 0.0], [4.335573746064156, 50.88208918738236, 0.0], [4.335566600625105, 50.88214761665268, 0.0], [4.335562302157412, 50.882198855171815, 0.0], [4.335559424066442, 50.88225099302564, 0.0], [4.335560775409216, 50.88235167493019, 0.0], [4.335570663413477, 50.8824370771779, 0.0], [4.335586241734042, 50.882513491575466, 0.0], [4.335614593745205, 50.88261238305516, 0.0], [4.335617427711067, 50.882624070086585, 0.0], [4.3356273556032425, 50.88265194003702, 0.0], [4.33564861817718, 50.88272835599214, 0.0], [4.335651432309452, 50.88276880916463, 0.0], [4.335647143803317, 50.88280566460681, 0.0], [4.335635744575648, 50.882850608563054, 0.0], [4.335615819160949, 50.88289555016097, 0.0], [4.33558879042811, 50.88293779296369, 0.0], [4.335566033443763, 50.88296745175359, 0.0], [4.335348446855873, 50.883210105659614, 0.0], [4.333384391940075, 50.88538048609929, 0.0], [4.333353095129802, 50.885424524979726, 0.0], [4.333336011972972, 50.88546497229145, 0.0], [4.333330296973836, 50.88550632190595, 0.0], [4.333331695480007, 50.88553688632772, 0.0], [4.333344444249517, 50.885592624465964, 0.0], [4.333352948981962, 50.88562229204691, 0.0], [4.333415311379938, 50.88584794475099, 0.0], [4.33343375342329, 50.88589199831767, 0.0], [4.333450787630466, 50.8859180726397, 0.0], [4.333476347251274, 50.88594594735387, 0.0], [4.33351469566569, 50.88597562370953, 0.0], [4.333551628291159, 50.88599810810585, 0.0], [4.333679480518839, 50.8860646672796, 0.0], [4.333695106298561, 50.886073661268206, 0.0], [4.333766134912941, 50.88611143757537, 0.0], [4.333902505360884, 50.88619058416965, 0.0], [4.333953642438791, 50.886222960924236, 0.0], [4.334141146959786, 50.88633987761603, 0.0], [4.334368406153423, 50.88650984295022, 0.0], [4.334440844880464, 50.88656469913034, 0.0], [4.334469250934236, 50.88658807973248, 0.0], [4.334483455257101, 50.886597972148984, 0.0], [4.334611284828527, 50.886700487933005, 0.0], [4.334631169947889, 50.88671577559661, 0.0], [4.33484279374472, 50.88689472494925, 0.0], [4.334929429267375, 50.886972058363924, 0.0], [4.33501322213632, 50.887050289853526, 0.0], [4.335095590343022, 50.887133914527254, 0.0], [4.335172272321239, 50.88722023437092, 0.0], [4.33522481055716, 50.88728407388723, 0.0], [4.335283024174046, 50.88736139907764, 0.0], [4.335327036984125, 50.88742343828272, 0.0], [4.33539517722633, 50.8875322291129, 0.0], [4.335439177232064, 50.88761314602722, 0.0], [4.3354888464937815, 50.88771653801717, 0.0], [4.335525733481291, 50.88780824021031, 0.0], [4.335558356453809, 50.887900840149534, 0.0], [4.3355781970018965, 50.88798175031082, 0.0], [4.335590928591339, 50.88806715320425, 0.0], [4.335595151750424, 50.88812558551972, 0.0], [4.335595083392994, 50.88822446897867, 0.0], [4.335586503424653, 50.888300876563505, 0.0], [4.335573666066709, 50.888368293561285, 0.0], [4.335553717096073, 50.88844379905287, 0.0], [4.335539474017054, 50.88848874213926, 0.0], [4.335530931892521, 50.888510314347315, 0.0], [4.3355252371385085, 50.8885246958189, 0.0], [4.335525238384055, 50.88852289793802, 0.0], [4.335499617558149, 50.88857952409225, 0.0], [4.335465470710834, 50.88863434999156, 0.0], [4.33542990632865, 50.88868378184263, 0.0], [4.335375859961216, 50.88874219794308, 0.0], [4.335327507682535, 50.88878713149745, 0.0], [4.335277737869248, 50.888826670992245, 0.0], [4.335220861931244, 50.88886620847766, 0.0], [4.3351739419170965, 50.88889496143856, 0.0], [4.335114228433743, 50.88892730655248, 0.0], [4.335040300861757, 50.88896234445965, 0.0], [4.334973484940387, 50.88898929386025, 0.0], [4.334898142300668, 50.889015341873574, 0.0], [4.334787265419034, 50.88904677341419, 0.0], [4.334080808416393, 50.889203885620276, 0.0], [4.332937957903011, 50.889458848311364, 0.0], [4.330065142179434, 50.89009799910019, 0.0], [4.330005436760127, 50.89011416068412, 0.0], [4.329958520329069, 50.8901330232101, 0.0], [4.329920129152461, 50.89015458530812, 0.0], [4.329891685944339, 50.89017704956873, 0.0], [4.329867502067875, 50.890204908849455, 0.0], [4.329854692546707, 50.8902273781863, 0.0], [4.3298447181979665, 50.89025883784661, 0.0], [4.329844687473823, 50.890296593324685, 0.0], [4.32985177252055, 50.890322664896345, 0.0], [4.329871642272996, 50.89035683108878, 0.0], [4.329885837267647, 50.89037841026993, 0.0], [4.330310388964933, 50.89088015614108, 0.0], [4.330530477334605, 50.89114091930987, 0.0], [4.330638400543408, 50.891258714896715, 0.0], [4.330753434999168, 50.891371119000894, 0.0], [4.330840073470795, 50.8914466574537, 0.0], [4.330922456175588, 50.89151230615602, 0.0], [4.331002002914899, 50.891569863445405, 0.0], [4.331077290929797, 50.89162112675939, 0.0], [4.33117673261856, 50.891683184893544, 0.0], [4.3312875435244305, 50.891747044383855, 0.0], [4.331399780941434, 50.891804611635266, 0.0], [4.3315574876179985, 50.89187837384163, 0.0], [4.331639895787443, 50.89191345808815, 0.0], [4.331759249578528, 50.89195934098387, 0.0], [4.3321343700851465, 50.892094297341714, 0.0], [4.333165964265114, 50.8924631737695, 0.0], [4.333202909165675, 50.89247576989982, 0.0], [4.333235588132892, 50.89249106157178, 0.0], [4.333268263791147, 50.892510847931526, 0.0], [4.333298095507957, 50.892532431319104, 0.0], [4.333317979343903, 50.892552213876165, 0.0], [4.333332175920942, 50.892574691566104, 0.0], [4.333344943215736, 50.89260795610628, 0.0], [4.333349181929756, 50.89264211706287, 0.0], [4.333344900683744, 50.89266548822514, 0.0], [4.333334934138189, 50.892688857705544, 0.0], [4.333310746354402, 50.892723010250556, 0.0], [4.333278031911692, 50.89275536238513, 0.0], [4.332844271348084, 50.893096830067975, 0.0], [4.332562678255199, 50.8933196822308, 0.0], [4.332531391026867, 50.893343045189866, 0.0], [4.332399126194738, 50.89344818099119, 0.0], [4.331912730102531, 50.89383187931132, 0.0]], &quot;type&quot;: &quot;LineString&quot;}, &quot;id&quot;: &quot;145&quot;, &quot;properties&quot;: {&quot;COLOR_HEX&quot;: &quot;red&quot;, &quot;Date_debut&quot;: &quot;01/09/2021&quot;, &quot;Date_fin&quot;: &quot;06/03/2022&quot;, &quot;LIGNE&quot;: &quot;093t&quot;, &quot;VARIANTE&quot;: 2}, &quot;type&quot;: &quot;Feature&quot;}], &quot;type&quot;: &quot;FeatureCollection&quot;});\n",
       "\n",
       "        \n",
       "    \n",
       "    geo_json_d172517f79bf7c5618a151a961eb99ad.bindPopup(\n",
       "    function(layer){\n",
       "    let div = L.DomUtil.create(&#x27;div&#x27;);\n",
       "    \n",
       "    let handleObject = feature=&gt;typeof(feature)==&#x27;object&#x27; ? JSON.stringify(feature) : feature;\n",
       "    let fields = [&quot;LIGNE&quot;];\n",
       "    let aliases = [&quot;LIGNE&quot;];\n",
       "    let table = &#x27;&lt;table&gt;&#x27; +\n",
       "        String(\n",
       "        fields.map(\n",
       "        (v,i)=&gt;\n",
       "        `&lt;tr&gt;\n",
       "            &lt;th&gt;${aliases[i].toLocaleString()}&lt;/th&gt;\n",
       "            \n",
       "            &lt;td&gt;${handleObject(layer.feature.properties[v]).toLocaleString()}&lt;/td&gt;\n",
       "        &lt;/tr&gt;`).join(&#x27;&#x27;))\n",
       "    +&#x27;&lt;/table&gt;&#x27;;\n",
       "    div.innerHTML=table;\n",
       "    \n",
       "    return div\n",
       "    }\n",
       "    ,{&quot;className&quot;: &quot;foliumpopup&quot;});\n",
       "                     \n",
       "&lt;/script&gt;\" style=\"position:absolute;width:100%;height:100%;left:0;top:0;border:none !important;\" allowfullscreen webkitallowfullscreen mozallowfullscreen></iframe></div></div>"
      ],
      "text/plain": [
       "<folium.folium.Map at 0x2bb5b0df0>"
      ]
     },
     "execution_count": 244,
     "metadata": {},
     "output_type": "execute_result"
    }
   ],
   "source": [
    "map"
   ]
  },
  {
   "cell_type": "code",
   "execution_count": null,
   "metadata": {
    "scrolled": true
   },
   "outputs": [],
   "source": []
  }
 ],
 "metadata": {
  "kernelspec": {
   "display_name": "Python 3 (ipykernel)",
   "language": "python",
   "name": "python3"
  },
  "language_info": {
   "codemirror_mode": {
    "name": "ipython",
    "version": 3
   },
   "file_extension": ".py",
   "mimetype": "text/x-python",
   "name": "python",
   "nbconvert_exporter": "python",
   "pygments_lexer": "ipython3",
   "version": "3.9.13"
  },
  "vscode": {
   "interpreter": {
    "hash": "cd14c0a2a357633372f071262be403133585960d1c2eab410d3eadd281d75dfe"
   }
  }
 },
 "nbformat": 4,
 "nbformat_minor": 2
}
